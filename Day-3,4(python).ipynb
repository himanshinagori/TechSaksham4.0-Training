{
 "cells": [
  {
   "cell_type": "code",
   "execution_count": 1,
   "id": "4e846d6d-71f5-4b0e-a3a5-18e32c0a1bb3",
   "metadata": {},
   "outputs": [
    {
     "data": {
      "text/plain": [
       "'Hello'"
      ]
     },
     "execution_count": 1,
     "metadata": {},
     "output_type": "execute_result"
    }
   ],
   "source": [
    "\"Hello\""
   ]
  },
  {
   "cell_type": "code",
   "execution_count": 3,
   "id": "eea94792-5030-45c5-920e-fcb9fcd475a8",
   "metadata": {},
   "outputs": [
    {
     "data": {
      "text/plain": [
       "'Hello Gunnu and Jinniee'"
      ]
     },
     "execution_count": 3,
     "metadata": {},
     "output_type": "execute_result"
    }
   ],
   "source": [
    "\"Hello Gunnu and Jinniee\""
   ]
  },
  {
   "cell_type": "code",
   "execution_count": 5,
   "id": "dedaadc1-c158-4478-a722-ce702e0fdfdc",
   "metadata": {},
   "outputs": [
    {
     "data": {
      "text/plain": [
       "'Hello Cutie, Welcome to WIT'"
      ]
     },
     "execution_count": 5,
     "metadata": {},
     "output_type": "execute_result"
    }
   ],
   "source": [
    "\"Hello Cutie, Welcome to WIT\""
   ]
  },
  {
   "cell_type": "code",
   "execution_count": 7,
   "id": "65d19dbf-b278-45c2-9d38-9a0da15cb63d",
   "metadata": {},
   "outputs": [
    {
     "name": "stdout",
     "output_type": "stream",
     "text": [
      "Hello\n"
     ]
    }
   ],
   "source": [
    "print('Hello')"
   ]
  },
  {
   "cell_type": "code",
   "execution_count": 9,
   "id": "8df372cc-e3c3-4764-a0c0-5e8621c772ca",
   "metadata": {},
   "outputs": [
    {
     "name": "stdout",
     "output_type": "stream",
     "text": [
      "Wecome to AI\n",
      "I am HImanshi, Your Friend\n"
     ]
    }
   ],
   "source": [
    "print('Wecome to AI')\n",
    "print('I am HImanshi, Your Friend')"
   ]
  },
  {
   "cell_type": "code",
   "execution_count": 11,
   "id": "bb1ac838-fc2a-4f37-984c-d6aaa5122967",
   "metadata": {},
   "outputs": [
    {
     "name": "stdout",
     "output_type": "stream",
     "text": [
      "\n",
      "\n",
      "It gives a new line space.\n"
     ]
    }
   ],
   "source": [
    "print('\\n')\n",
    "print('It gives a new line space.')"
   ]
  },
  {
   "cell_type": "code",
   "execution_count": 13,
   "id": "4ee082b1-ea08-4baf-9a81-e3544276b7ef",
   "metadata": {},
   "outputs": [
    {
     "data": {
      "text/plain": [
       "19"
      ]
     },
     "execution_count": 13,
     "metadata": {},
     "output_type": "execute_result"
    }
   ],
   "source": [
    "len('Hello, Bitchesssss!')"
   ]
  },
  {
   "cell_type": "code",
   "execution_count": 15,
   "id": "dfa5f079-ac07-4b57-9ebb-430c3f136719",
   "metadata": {},
   "outputs": [],
   "source": [
    "Str = 'Hell Yeah!'"
   ]
  },
  {
   "cell_type": "code",
   "execution_count": 19,
   "id": "9d61de79-093d-4b26-a74e-7e810e43a31c",
   "metadata": {},
   "outputs": [
    {
     "data": {
      "text/plain": [
       "10"
      ]
     },
     "execution_count": 19,
     "metadata": {},
     "output_type": "execute_result"
    }
   ],
   "source": [
    "len(str)"
   ]
  },
  {
   "cell_type": "code",
   "execution_count": 25,
   "id": "ecd202f0-95dc-4b3a-85f0-2d6175378265",
   "metadata": {},
   "outputs": [
    {
     "data": {
      "text/plain": [
       "'ell Yeah!'"
      ]
     },
     "execution_count": 25,
     "metadata": {},
     "output_type": "execute_result"
    }
   ],
   "source": [
    "Str[1:]"
   ]
  },
  {
   "cell_type": "code",
   "execution_count": 27,
   "id": "f7f80e43-d537-4cc5-8555-8445c75e84fb",
   "metadata": {},
   "outputs": [
    {
     "data": {
      "text/plain": [
       "'Hell'"
      ]
     },
     "execution_count": 27,
     "metadata": {},
     "output_type": "execute_result"
    }
   ],
   "source": [
    "Str[:4]"
   ]
  },
  {
   "cell_type": "code",
   "execution_count": 29,
   "id": "c3b7f343-d148-4e5e-b8b1-7b368e2bf63d",
   "metadata": {},
   "outputs": [
    {
     "data": {
      "text/plain": [
       "'Hell Yeah!'"
      ]
     },
     "execution_count": 29,
     "metadata": {},
     "output_type": "execute_result"
    }
   ],
   "source": [
    "Str[:]"
   ]
  },
  {
   "cell_type": "code",
   "execution_count": 32,
   "id": "92097bc8-6953-4df5-950e-73df383b07b1",
   "metadata": {},
   "outputs": [
    {
     "data": {
      "text/plain": [
       "'Hell Yeah!heluuuuu, I am Honey'"
      ]
     },
     "execution_count": 32,
     "metadata": {},
     "output_type": "execute_result"
    }
   ],
   "source": [
    "Str + 'heluuuuu, I am Honey'"
   ]
  },
  {
   "cell_type": "code",
   "execution_count": 34,
   "id": "964d80d3-8dc5-41d3-9c53-4a6042aa2ca0",
   "metadata": {},
   "outputs": [
    {
     "data": {
      "text/plain": [
       "'Hell Yeah!'"
      ]
     },
     "execution_count": 34,
     "metadata": {},
     "output_type": "execute_result"
    }
   ],
   "source": [
    "Str"
   ]
  },
  {
   "cell_type": "code",
   "execution_count": 36,
   "id": "0399d095-0f1e-4dce-8d79-bb8f53a360f2",
   "metadata": {},
   "outputs": [
    {
     "data": {
      "text/plain": [
       "'HELL YEAH!'"
      ]
     },
     "execution_count": 36,
     "metadata": {},
     "output_type": "execute_result"
    }
   ],
   "source": [
    "Str.upper()"
   ]
  },
  {
   "cell_type": "code",
   "execution_count": 38,
   "id": "30de711f-35dc-4dd6-bed7-fc6ec3914eaf",
   "metadata": {},
   "outputs": [
    {
     "data": {
      "text/plain": [
       "'hell yeah!'"
      ]
     },
     "execution_count": 38,
     "metadata": {},
     "output_type": "execute_result"
    }
   ],
   "source": [
    "Str.lower()"
   ]
  },
  {
   "cell_type": "code",
   "execution_count": 40,
   "id": "ed9725b4-2efb-4eb7-a8f6-85ac7ffd542c",
   "metadata": {},
   "outputs": [
    {
     "name": "stdout",
     "output_type": "stream",
     "text": [
      "Enter your first name here Honey then lastname here Jain\n"
     ]
    }
   ],
   "source": [
    "print('Enter your first name here {} then lastname here {}' .format('Honey','Jain'))"
   ]
  },
  {
   "cell_type": "code",
   "execution_count": 44,
   "id": "ab38cf60-7b0c-4b9d-8afa-ca0fda1fb124",
   "metadata": {},
   "outputs": [
    {
     "name": "stdout",
     "output_type": "stream",
     "text": [
      "The colours are black brown red.\n"
     ]
    }
   ],
   "source": [
    "print('The colours are {2} {1} {0}.' .format('red','brown','black'))"
   ]
  },
  {
   "cell_type": "code",
   "execution_count": 46,
   "id": "6875d35e-9bc8-43b9-a2b4-98a5b9be1800",
   "metadata": {},
   "outputs": [
    {
     "name": "stdout",
     "output_type": "stream",
     "text": [
      "First object: 1, Second object: Two, Third object: 30.2\n"
     ]
    }
   ],
   "source": [
    "print('First object: {a}, Second object: {b}, Third object: {c}'.format(a=1,b='Two',c=30.2))"
   ]
  },
  {
   "cell_type": "code",
   "execution_count": 48,
   "id": "d6e06213-2300-4143-94b2-bc11c35c5118",
   "metadata": {},
   "outputs": [
    {
     "data": {
      "text/plain": [
       "{1, 2, 3, 4, 5, 6}"
      ]
     },
     "execution_count": 48,
     "metadata": {},
     "output_type": "execute_result"
    }
   ],
   "source": [
    "my_list = {1,2,3,4,5,6}\n",
    "my_list"
   ]
  },
  {
   "cell_type": "code",
   "execution_count": 50,
   "id": "585e8acf-9839-46c7-977c-43b0f326e991",
   "metadata": {},
   "outputs": [],
   "source": [
    "my_list1 = ['Honeyyyy',3,10.2,'A',32,3]"
   ]
  },
  {
   "cell_type": "code",
   "execution_count": 52,
   "id": "527846ae-9d8d-4553-9758-295f621f2cf1",
   "metadata": {},
   "outputs": [
    {
     "data": {
      "text/plain": [
       "['Honeyyyy', 3, 10.2, 'A', 32, 3]"
      ]
     },
     "execution_count": 52,
     "metadata": {},
     "output_type": "execute_result"
    }
   ],
   "source": [
    "my_list1"
   ]
  },
  {
   "cell_type": "code",
   "execution_count": 54,
   "id": "fd198f27-41bd-497c-9b53-d901aac53eec",
   "metadata": {},
   "outputs": [
    {
     "data": {
      "text/plain": [
       "6"
      ]
     },
     "execution_count": 54,
     "metadata": {},
     "output_type": "execute_result"
    }
   ],
   "source": [
    "len(my_list1)"
   ]
  },
  {
   "cell_type": "code",
   "execution_count": 58,
   "id": "61ff25da-f171-411c-860c-f98f428bf347",
   "metadata": {},
   "outputs": [
    {
     "data": {
      "text/plain": [
       "'Honeyyyy'"
      ]
     },
     "execution_count": 58,
     "metadata": {},
     "output_type": "execute_result"
    }
   ],
   "source": [
    "my_list1[0]"
   ]
  },
  {
   "cell_type": "code",
   "execution_count": 60,
   "id": "ab75044c-7703-4c85-a7e0-f7177fadd0bb",
   "metadata": {},
   "outputs": [
    {
     "data": {
      "text/plain": [
       "['Honeyyyy', 3, 10.2, 'A', 32, 3]"
      ]
     },
     "execution_count": 60,
     "metadata": {},
     "output_type": "execute_result"
    }
   ],
   "source": [
    "my_list1[0:]"
   ]
  },
  {
   "cell_type": "code",
   "execution_count": 62,
   "id": "a2b58a0c-4239-4521-b130-558a6a7bbd69",
   "metadata": {},
   "outputs": [
    {
     "data": {
      "text/plain": [
       "['A', 32, 3]"
      ]
     },
     "execution_count": 62,
     "metadata": {},
     "output_type": "execute_result"
    }
   ],
   "source": [
    "my_list1[3:]"
   ]
  },
  {
   "cell_type": "code",
   "execution_count": 64,
   "id": "88e6e239-4a61-424b-b1fd-48fb5a725010",
   "metadata": {},
   "outputs": [
    {
     "data": {
      "text/plain": [
       "['Honeyyyy', 3, 10.2, 'A', 32, 3, 'yesssoooo']"
      ]
     },
     "execution_count": 64,
     "metadata": {},
     "output_type": "execute_result"
    }
   ],
   "source": [
    "my_list1 + ['yesssoooo']"
   ]
  },
  {
   "cell_type": "code",
   "execution_count": 66,
   "id": "987bafc1-56a0-4181-92ae-6a697503838e",
   "metadata": {},
   "outputs": [],
   "source": [
    "my_list1 = my_list1 + ['new item']"
   ]
  },
  {
   "cell_type": "code",
   "execution_count": 68,
   "id": "6596be8f-7244-4bde-abe0-d66d7b8fbff4",
   "metadata": {},
   "outputs": [
    {
     "data": {
      "text/plain": [
       "['Honeyyyy', 3, 10.2, 'A', 32, 3, 'new item']"
      ]
     },
     "execution_count": 68,
     "metadata": {},
     "output_type": "execute_result"
    }
   ],
   "source": [
    "my_list1"
   ]
  },
  {
   "cell_type": "code",
   "execution_count": 70,
   "id": "edc8f389-a8f1-46f4-ae13-d1773968f287",
   "metadata": {},
   "outputs": [
    {
     "data": {
      "text/plain": [
       "['Honeyyyy', 3, 10.2, 'A', 32, 3, 'new item']"
      ]
     },
     "execution_count": 70,
     "metadata": {},
     "output_type": "execute_result"
    }
   ],
   "source": [
    "my_list1"
   ]
  },
  {
   "cell_type": "code",
   "execution_count": 72,
   "id": "5c95b5bc-a61c-4172-b6a3-43c8ba0e6293",
   "metadata": {},
   "outputs": [],
   "source": [
    "my_list1.append('append')"
   ]
  },
  {
   "cell_type": "code",
   "execution_count": 74,
   "id": "1e8eb523-2e65-4746-99b0-fe0900cad00c",
   "metadata": {},
   "outputs": [
    {
     "data": {
      "text/plain": [
       "['Honeyyyy', 3, 10.2, 'A', 32, 3, 'new item', 'append']"
      ]
     },
     "execution_count": 74,
     "metadata": {},
     "output_type": "execute_result"
    }
   ],
   "source": [
    "my_list1"
   ]
  },
  {
   "cell_type": "code",
   "execution_count": 76,
   "id": "ba4528f7-6252-4e77-8cfe-775945021852",
   "metadata": {},
   "outputs": [],
   "source": [
    "new_list = [1,2,3,4,5,6]"
   ]
  },
  {
   "cell_type": "code",
   "execution_count": 78,
   "id": "bc3b41d7-bf97-458d-83fa-5c80fef2d004",
   "metadata": {},
   "outputs": [
    {
     "data": {
      "text/plain": [
       "[1, 2, 3, 4, 5, 6]"
      ]
     },
     "execution_count": 78,
     "metadata": {},
     "output_type": "execute_result"
    }
   ],
   "source": [
    "new_list"
   ]
  },
  {
   "cell_type": "code",
   "execution_count": 80,
   "id": "676929da-c317-4f7e-9f88-ceb16fd5de9b",
   "metadata": {},
   "outputs": [
    {
     "data": {
      "text/plain": [
       "1"
      ]
     },
     "execution_count": 80,
     "metadata": {},
     "output_type": "execute_result"
    }
   ],
   "source": [
    "new_list.pop(0)"
   ]
  },
  {
   "cell_type": "code",
   "execution_count": 82,
   "id": "b91edcdb-50b3-453b-b9c4-42a753e7681b",
   "metadata": {},
   "outputs": [],
   "source": [
    "Dict = {'key1':'value1','key2':'value2','key3':'value3'}"
   ]
  },
  {
   "cell_type": "code",
   "execution_count": 87,
   "id": "e62b5da9-c6b3-4e10-b4c4-a1e08e097842",
   "metadata": {},
   "outputs": [
    {
     "data": {
      "text/plain": [
       "{'key1': 'value1', 'key2': 'value2', 'key3': 'value3'}"
      ]
     },
     "execution_count": 87,
     "metadata": {},
     "output_type": "execute_result"
    }
   ],
   "source": [
    "Dict"
   ]
  },
  {
   "cell_type": "code",
   "execution_count": 89,
   "id": "c791a499-76ed-4500-abfb-4b18c569da53",
   "metadata": {},
   "outputs": [],
   "source": [
    "My_Dict = {'key1':123,'key2':[1,2,3],'key3':['Yes','No']}"
   ]
  },
  {
   "cell_type": "code",
   "execution_count": 91,
   "id": "58dcc5d8-87eb-44f4-a01e-829cd72eb9e0",
   "metadata": {},
   "outputs": [
    {
     "data": {
      "text/plain": [
       "{'key1': 123, 'key2': [1, 2, 3], 'key3': ['Yes', 'No']}"
      ]
     },
     "execution_count": 91,
     "metadata": {},
     "output_type": "execute_result"
    }
   ],
   "source": [
    "My_Dict"
   ]
  },
  {
   "cell_type": "code",
   "execution_count": 97,
   "id": "6bab9a45-e571-4fb8-8055-0ff9705a11e7",
   "metadata": {},
   "outputs": [
    {
     "data": {
      "text/plain": [
       "['key1']"
      ]
     },
     "execution_count": 97,
     "metadata": {},
     "output_type": "execute_result"
    }
   ],
   "source": [
    "My_Dict"
   ]
  },
  {
   "cell_type": "code",
   "execution_count": 99,
   "id": "cc456b00-cf29-4391-998c-242fcf343d6c",
   "metadata": {},
   "outputs": [],
   "source": [
    "My_Dict = {'key1':123,'key2':[1,2,3],'key3':['Yes','No']}"
   ]
  },
  {
   "cell_type": "code",
   "execution_count": 101,
   "id": "68391d5d-283b-4a3d-8062-90a7ac3250fe",
   "metadata": {},
   "outputs": [
    {
     "data": {
      "text/plain": [
       "{'key1': 123, 'key2': [1, 2, 3], 'key3': ['Yes', 'No']}"
      ]
     },
     "execution_count": 101,
     "metadata": {},
     "output_type": "execute_result"
    }
   ],
   "source": [
    "My_Dict"
   ]
  },
  {
   "cell_type": "code",
   "execution_count": 105,
   "id": "d9f9e4f4-8af3-45b0-9e3a-9c33954936f7",
   "metadata": {},
   "outputs": [],
   "source": [
    "My_Dict['key1'] = My_Dict['key1'] + 123"
   ]
  },
  {
   "cell_type": "code",
   "execution_count": 107,
   "id": "7215d85d-b5a8-4c15-9e70-85f121948634",
   "metadata": {},
   "outputs": [
    {
     "data": {
      "text/plain": [
       "{'key1': 246, 'key2': [1, 2, 3], 'key3': ['Yes', 'No']}"
      ]
     },
     "execution_count": 107,
     "metadata": {},
     "output_type": "execute_result"
    }
   ],
   "source": [
    "My_Dict"
   ]
  },
  {
   "cell_type": "code",
   "execution_count": 109,
   "id": "3fb0e767-4535-4ee4-a6aa-eac42b404c1c",
   "metadata": {},
   "outputs": [
    {
     "data": {
      "text/plain": [
       "(1, 2, 3, 4, 5, 6, 'Himsss', 'Jinie', 'Gunnu')"
      ]
     },
     "execution_count": 109,
     "metadata": {},
     "output_type": "execute_result"
    }
   ],
   "source": [
    "tuple = (1,2,3,4,5,6,'Himsss','Jinie','Gunnu')\n",
    "tuple"
   ]
  },
  {
   "cell_type": "code",
   "execution_count": 111,
   "id": "7545e0ea-e1e5-43f6-b577-ed05c1b7acd9",
   "metadata": {},
   "outputs": [
    {
     "data": {
      "text/plain": [
       "9"
      ]
     },
     "execution_count": 111,
     "metadata": {},
     "output_type": "execute_result"
    }
   ],
   "source": [
    "len(tuple)"
   ]
  },
  {
   "cell_type": "code",
   "execution_count": 113,
   "id": "9c238998-0331-4f55-90ae-0dafe5f7f6c5",
   "metadata": {},
   "outputs": [
    {
     "data": {
      "text/plain": [
       "1"
      ]
     },
     "execution_count": 113,
     "metadata": {},
     "output_type": "execute_result"
    }
   ],
   "source": [
    "tuple[0]"
   ]
  },
  {
   "cell_type": "code",
   "execution_count": 115,
   "id": "9a3451fd-b425-402e-9a17-a6aa892bc43e",
   "metadata": {},
   "outputs": [
    {
     "data": {
      "text/plain": [
       "'Himsss'"
      ]
     },
     "execution_count": 115,
     "metadata": {},
     "output_type": "execute_result"
    }
   ],
   "source": [
    "tuple[-3]"
   ]
  },
  {
   "cell_type": "code",
   "execution_count": 117,
   "id": "fa49a159-67e7-40ce-a46a-987de9d37549",
   "metadata": {},
   "outputs": [
    {
     "data": {
      "text/plain": [
       "{1, 2, 3, 4, 5}"
      ]
     },
     "execution_count": 117,
     "metadata": {},
     "output_type": "execute_result"
    }
   ],
   "source": [
    "{1,2,3,4,5}"
   ]
  },
  {
   "cell_type": "code",
   "execution_count": 119,
   "id": "5c125eaf-64c4-4b5a-8dcf-67271ed4f005",
   "metadata": {},
   "outputs": [
    {
     "data": {
      "text/plain": [
       "{0, 1, 2, 3, 4, 5}"
      ]
     },
     "execution_count": 119,
     "metadata": {},
     "output_type": "execute_result"
    }
   ],
   "source": [
    "{0,1,2,3,3,3,4,4,5}"
   ]
  },
  {
   "cell_type": "code",
   "execution_count": 121,
   "id": "cefc0e88-6d93-461f-a494-5c2a86e93d00",
   "metadata": {},
   "outputs": [
    {
     "data": {
      "text/plain": [
       "set"
      ]
     },
     "execution_count": 121,
     "metadata": {},
     "output_type": "execute_result"
    }
   ],
   "source": [
    "type({1,2,3,4})"
   ]
  },
  {
   "cell_type": "code",
   "execution_count": 123,
   "id": "63e226c4-9e45-42c1-a59a-0363fb538e6e",
   "metadata": {},
   "outputs": [],
   "source": [
    "Set = set()"
   ]
  },
  {
   "cell_type": "code",
   "execution_count": 125,
   "id": "54902e4c-846a-4a71-8ff6-85ca60f6aa90",
   "metadata": {},
   "outputs": [],
   "source": [
    "Set.add(1)"
   ]
  },
  {
   "cell_type": "code",
   "execution_count": 127,
   "id": "5508f73d-b3e8-4838-8059-ab176a11e775",
   "metadata": {},
   "outputs": [],
   "source": [
    "Set.add(2)"
   ]
  },
  {
   "cell_type": "code",
   "execution_count": 129,
   "id": "87ee1a27-7bcd-4c8c-82db-30d7319642a6",
   "metadata": {},
   "outputs": [],
   "source": [
    "Set.add(3)"
   ]
  },
  {
   "cell_type": "code",
   "execution_count": 131,
   "id": "ea4a5db5-747f-45f0-9b1d-e68c815b4f30",
   "metadata": {},
   "outputs": [
    {
     "data": {
      "text/plain": [
       "{1, 2, 3}"
      ]
     },
     "execution_count": 131,
     "metadata": {},
     "output_type": "execute_result"
    }
   ],
   "source": [
    "Set"
   ]
  },
  {
   "cell_type": "code",
   "execution_count": 133,
   "id": "85ec1c2a-e47c-475e-aada-1bea9cb5f10e",
   "metadata": {},
   "outputs": [],
   "source": [
    "Set.add(1)"
   ]
  },
  {
   "cell_type": "code",
   "execution_count": 135,
   "id": "cbaf6a08-52b2-4cfb-b683-dc7823021131",
   "metadata": {},
   "outputs": [
    {
     "data": {
      "text/plain": [
       "{1, 2, 3}"
      ]
     },
     "execution_count": 135,
     "metadata": {},
     "output_type": "execute_result"
    }
   ],
   "source": [
    "Set"
   ]
  },
  {
   "cell_type": "code",
   "execution_count": 139,
   "id": "e109e3d0-02ea-4a5c-b234-ce879654e975",
   "metadata": {},
   "outputs": [
    {
     "name": "stdout",
     "output_type": "stream",
     "text": [
      "Yea, Its True!\n"
     ]
    }
   ],
   "source": [
    "if True:\n",
    "    print(\"Yea, Its True!\")"
   ]
  },
  {
   "cell_type": "code",
   "execution_count": 141,
   "id": "61b5e2f2-0c6b-4637-b8aa-b0c0a664d036",
   "metadata": {},
   "outputs": [
    {
     "name": "stdout",
     "output_type": "stream",
     "text": [
      "I will be printed in case where x is not True\n"
     ]
    }
   ],
   "source": [
    "x = False\n",
    "\n",
    "if x:\n",
    "    print(\"Yea, Its True!\")\n",
    "else:\n",
    "    print('I will be printed in case where {} is not True'.format('x'))"
   ]
  },
  {
   "cell_type": "code",
   "execution_count": 143,
   "id": "3e980927-b744-49bf-b3f2-b4bfe46fe29e",
   "metadata": {},
   "outputs": [
    {
     "name": "stdout",
     "output_type": "stream",
     "text": [
      "Welcome to the Andhra Pradesh!\n"
     ]
    }
   ],
   "source": [
    "loc = 'Andhra Pradesh'\n",
    "\n",
    "if loc == 'Bangalore':\n",
    "    print('Welcome to the Bangalore!')\n",
    "elif loc == 'Andhra Pradesh':\n",
    "    print('Welcome to the Andhra Pradesh!')\n",
    "else:\n",
    "    print('Where are you?')"
   ]
  },
  {
   "cell_type": "code",
   "execution_count": 31,
   "id": "e15e2bd8-7cdb-4cb7-9ef7-908340e4f4fc",
   "metadata": {},
   "outputs": [
    {
     "name": "stdin",
     "output_type": "stream",
     "text": [
      "Enter the number of units consumed:  3550\n"
     ]
    },
    {
     "name": "stdout",
     "output_type": "stream",
     "text": [
      "Total electricity bill for 3550 units: Rs. 43600\n"
     ]
    }
   ],
   "source": [
    "def calculate_electricity_bill(units):\n",
    "    if units <= 200:\n",
    "        bill = 0\n",
    "    elif units <= 500:\n",
    "        bill = (units - 200) * 8\n",
    "    elif units <= 1000:\n",
    "        bill = (300 * 8) + (units - 500) * 11\n",
    "    else:\n",
    "        bill = (300 * 8) + (500 * 11) + (units - 1000) * 14\n",
    "    \n",
    "    return bill\n",
    "\n",
    "units = int(input(\"Enter the number of units consumed: \"))\n",
    "bill_amount = calculate_electricity_bill(units)\n",
    "\n",
    "print(f\"Total electricity bill for {units} units: Rs. {bill_amount}\")"
   ]
  },
  {
   "cell_type": "code",
   "execution_count": 27,
   "id": "f8f7a469-6b3f-477d-8d1d-a0b37e6a509a",
   "metadata": {},
   "outputs": [
    {
     "name": "stdout",
     "output_type": "stream",
     "text": [
      "For Salary: ₹4500000, Savings: ₹150000 -> Tax to be paid: ₹985000.00\n",
      "For Salary: ₹6200000, Savings: ₹350000 -> Tax to be paid: ₹1480000.00\n"
     ]
    }
   ],
   "source": [
    "def calculate_tax(salary, savings):\n",
    "    deductible_savings = min(savings, 200000)\n",
    "    taxable_salary = salary - deductible_savings\n",
    "\n",
    "    if taxable_salary <= 1000000:\n",
    "        return taxable_salary * 0.10\n",
    "    elif taxable_salary <= 2200000:\n",
    "        return 100000 + (taxable_salary - 1000000) * 0.20\n",
    "    else:\n",
    "        return 340000 + (taxable_salary - 2200000) * 0.30\n",
    "\n",
    "# Eg:\n",
    "salaries_savings = [(4500000, 150000), (6200000, 350000)]\n",
    "\n",
    "for salary, savings in salaries_savings:\n",
    "    tax = calculate_tax(salary, savings)\n",
    "    print(f\"For Salary: ₹{salary}, Savings: ₹{savings} -> Tax to be paid: ₹{tax:.2f}\")"
   ]
  },
  {
   "cell_type": "code",
   "execution_count": 29,
   "id": "20df21ec-14f9-4ddb-bcc0-acae876f0118",
   "metadata": {},
   "outputs": [
    {
     "name": "stdout",
     "output_type": "stream",
     "text": [
      "Total interest earned in 1 year on ₹6500000: ₹1045000.0\n"
     ]
    }
   ],
   "source": [
    "def calculate_fd_interest(amount, years=1):\n",
    "    first_limit = 10_00_000  \n",
    "    second_limit = 15_00_000 \n",
    "    remaining_limit = amount - (first_limit + second_limit)\n",
    "    \n",
    "    interest_first = first_limit * 0.10 * years  \n",
    "    interest_second = second_limit * 0.15 * years \n",
    "    interest_remaining = remaining_limit * 0.18 * years  \n",
    "    \n",
    "    total_interest = interest_first + interest_second + interest_remaining\n",
    "    \n",
    "    return total_interest\n",
    "\n",
    "# Total FD amount\n",
    "fd_amount = 65_00_000\n",
    "interest_earned = calculate_fd_interest(fd_amount, 1)  \n",
    "print(f\"Total interest earned in 1 year on ₹{fd_amount}: ₹{interest_earned}\")"
   ]
  },
  {
   "cell_type": "code",
   "execution_count": 63,
   "id": "e04565ff-e589-4953-b9aa-4011ea8e1bb7",
   "metadata": {},
   "outputs": [
    {
     "name": "stdin",
     "output_type": "stream",
     "text": [
      "Enter the number of terms:  20\n"
     ]
    },
    {
     "name": "stdout",
     "output_type": "stream",
     "text": [
      "Fibonacci Series: [0, 1, 1, 2, 3, 5, 8, 13, 21, 34, 55, 89, 144, 233, 377, 610, 987, 1597, 2584, 4181]\n"
     ]
    }
   ],
   "source": [
    "def fibonacci(n):\n",
    "    fib_series = [0, 1]\n",
    "    for i in range(2, n):\n",
    "        next_term = fib_series[-1] + fib_series[-2]\n",
    "        fib_series.append(next_term)\n",
    "    return fib_series[:n]\n",
    "num_terms = int(input(\"Enter the number of terms: \"))\n",
    "\n",
    "if num_terms <= 0:\n",
    "    print(\"Please enter a positive integer.\")\n",
    "else:\n",
    "    print(\"Fibonacci Series:\", fibonacci(num_terms))"
   ]
  },
  {
   "cell_type": "code",
   "execution_count": 53,
   "id": "92f5bc54-69af-44db-a9e6-5ed05df9084d",
   "metadata": {},
   "outputs": [
    {
     "name": "stdin",
     "output_type": "stream",
     "text": [
      "Enter a number:  5\n"
     ]
    },
    {
     "name": "stdout",
     "output_type": "stream",
     "text": [
      "5 is an Armstrong number.\n"
     ]
    }
   ],
   "source": [
    "num = int(input(\"Enter a number: \"))\n",
    "sum = 0\n",
    "temp = num\n",
    "n = len(str(num))  \n",
    "\n",
    "while temp > 0:\n",
    "    digit = temp % 10  \n",
    "    sum += digit ** n\n",
    "    temp //= 10  \n",
    "\n",
    "if sum == num:\n",
    "    print(f\"{num} is an Armstrong number.\")\n",
    "else:\n",
    "    print(f\"{num} is not an Armstrong number.\")"
   ]
  },
  {
   "cell_type": "code",
   "execution_count": 51,
   "id": "21f4a265-3731-4de6-828e-e91ca7673b83",
   "metadata": {},
   "outputs": [
    {
     "name": "stdin",
     "output_type": "stream",
     "text": [
      "Enter the number of rows:  5\n"
     ]
    },
    {
     "name": "stdout",
     "output_type": "stream",
     "text": [
      "    * \n",
      "   * * \n",
      "  * * * \n",
      " * * * * \n",
      "* * * * * \n"
     ]
    }
   ],
   "source": [
    "rows = int(input(\"Enter the number of rows: \"))\n",
    "for i in range(1, rows + 1):\n",
    "    print(\" \" * (rows - i), end=\"\")\n",
    "    print(\"* \" * i)"
   ]
  },
  {
   "cell_type": "code",
   "execution_count": 49,
   "id": "22ba3c4d-4a17-43f4-86cd-179ba5f052e3",
   "metadata": {},
   "outputs": [
    {
     "name": "stdin",
     "output_type": "stream",
     "text": [
      "Enter the number of rows:  5\n"
     ]
    },
    {
     "name": "stdout",
     "output_type": "stream",
     "text": [
      "    1 \n",
      "   2 3 \n",
      "  4 5 6 \n",
      " 7 8 9 10 \n",
      "11 12 13 14 15 \n"
     ]
    }
   ],
   "source": [
    "rows = int(input(\"Enter the number of rows: \"))\n",
    "num = 1 \n",
    "for i in range(1, rows + 1):\n",
    "    print(\" \" * (rows - i), end=\"\")\n",
    "    for k in range(1, i + 1):\n",
    "        print(f\"{num} \", end=\"\")\n",
    "        num += 1 \n",
    "    print()"
   ]
  },
  {
   "cell_type": "code",
   "execution_count": 55,
   "id": "2c3be303-212b-44d0-b114-4187e0a51457",
   "metadata": {},
   "outputs": [
    {
     "name": "stdin",
     "output_type": "stream",
     "text": [
      "Enter the number of rows:  5\n"
     ]
    },
    {
     "name": "stdout",
     "output_type": "stream",
     "text": [
      "    1 \n",
      "   2 2 \n",
      "  3 3 3 \n",
      " 4 4 4 4 \n",
      "5 5 5 5 5 \n"
     ]
    }
   ],
   "source": [
    "rows = int(input(\"Enter the number of rows: \"))\n",
    "for i in range(1, rows + 1):\n",
    "    print(\" \" * (rows - i), end=\"\")\n",
    "    print(f\"{i} \" * i)"
   ]
  },
  {
   "cell_type": "code",
   "execution_count": 57,
   "id": "26d4825b-52c3-4ceb-b957-63fd5e0cc6b5",
   "metadata": {},
   "outputs": [
    {
     "name": "stdin",
     "output_type": "stream",
     "text": [
      "Enter the number of rows:  5\n"
     ]
    },
    {
     "name": "stdout",
     "output_type": "stream",
     "text": [
      "5 4 3 2 1 \n",
      " 4 3 2 1 \n",
      "  3 2 1 \n",
      "   2 1 \n",
      "    1 \n"
     ]
    }
   ],
   "source": [
    "rows = int(input(\"Enter the number of rows: \"))\n",
    "for i in range(rows, 0, -1):\n",
    "    print(\" \" * (rows - i), end=\"\")\n",
    "    for k in range(i, 0, -1):\n",
    "        print(f\"{k} \", end=\"\")\n",
    "    print()"
   ]
  },
  {
   "cell_type": "code",
   "execution_count": 59,
   "id": "ab0ed073-9c39-4d1a-b56b-2b7bf32f3be4",
   "metadata": {},
   "outputs": [
    {
     "name": "stdout",
     "output_type": "stream",
     "text": [
      "Parent Name: Alice\n",
      "Child Name: Alice, Age: 10\n"
     ]
    }
   ],
   "source": [
    "# Demonstrating Inheritance in Python\n",
    "class Parent:\n",
    "    def __init__(self, name):\n",
    "        self.name = name\n",
    "    def display(self):\n",
    "        print(f\"Parent Name: {self.name}\")\n",
    "class Child(Parent):\n",
    "    def __init__(self, name, age):\n",
    "        super().__init__(name)\n",
    "        self.age = age\n",
    "    def show(self):\n",
    "        print(f\"Child Name: {self.name}, Age: {self.age}\")\n",
    "child_obj = Child(\"Alice\", 10)\n",
    "child_obj.display() \n",
    "child_obj.show() "
   ]
  },
  {
   "cell_type": "code",
   "execution_count": 65,
   "id": "ca5b1caf-e6fc-4c9f-96a0-33c56a4e6c3d",
   "metadata": {},
   "outputs": [
    {
     "name": "stdin",
     "output_type": "stream",
     "text": [
      "Enter the number of prime numbers to print:  7\n"
     ]
    },
    {
     "name": "stdout",
     "output_type": "stream",
     "text": [
      "2 3 5 7 11 13 17 "
     ]
    }
   ],
   "source": [
    "def is_prime(num):\n",
    "    if num < 2:\n",
    "        return False\n",
    "    for i in range(2, int(num ** 0.5) + 1):\n",
    "        if num % i == 0:\n",
    "            return False\n",
    "    return True\n",
    "\n",
    "def print_n_primes(n):\n",
    "    count = 0\n",
    "    num = 2\n",
    "    while count < n:\n",
    "        if is_prime(num):\n",
    "            print(num, end=\" \")\n",
    "            count += 1\n",
    "        num += 1\n",
    "\n",
    "n = int(input(\"Enter the number of prime numbers to print: \"))\n",
    "print_n_primes(n)\n"
   ]
  },
  {
   "cell_type": "code",
   "execution_count": 87,
   "id": "1f4683cb-00dc-4872-a4c0-ab6309f701ab",
   "metadata": {},
   "outputs": [
    {
     "name": "stdout",
     "output_type": "stream",
     "text": [
      "Sorted list: [34, 12, 5, 66, 23, 89, 1]\n"
     ]
    }
   ],
   "source": [
    "def sort_list_descending(list):\n",
    "    for i in range(len(list)):\n",
    "        for j in range(i + 1, len(list)):\n",
    "            if lst[i] < list[j]:\n",
    "                lst[i], lst[j] = list[j], list[i]\n",
    "    return list\n",
    "list = [34, 12, 5, 66, 23, 89, 1]\n",
    "print(\"Sorted list:\", sort_list_descending(list))"
   ]
  },
  {
   "cell_type": "code",
   "execution_count": 85,
   "id": "deab9af9-1983-47df-9963-802859bf2596",
   "metadata": {},
   "outputs": [
    {
     "name": "stdout",
     "output_type": "stream",
     "text": [
      "Sorted list: [23, 89, 89, 89, 89, 89, 89]\n"
     ]
    }
   ],
   "source": [
    "def sort_list_ascending(list):\n",
    "    for i in range(len(list)):\n",
    "        for j in range(i + 1, len(list)):\n",
    "            if list[i] > list[j]:\n",
    "                list[i], list[j] = list[j], list[i]\n",
    "    return list\n",
    "list = [34, 12, 5, 66, 23, 89, 1]\n",
    "print(\"Sorted list:\", sort_list_ascending(lst))"
   ]
  },
  {
   "cell_type": "code",
   "execution_count": 89,
   "id": "e7443134-504c-42a3-8157-0f46b6ed5e16",
   "metadata": {},
   "outputs": [
    {
     "name": "stdout",
     "output_type": "stream",
     "text": [
      "0 1 2 3 4 5 6 7 8 9 \n",
      "0 1 2 3 4 5 6 7 8 9 \n",
      "0 1 2 3 4 5 6 7 8 9 \n",
      "0 1 2 3 4 5 6 7 8 9 \n",
      "0 1 2 3 4 5 6 7 8 9 \n",
      "0 1 2 3 4 5 6 7 8 9 \n",
      "0 1 2 3 4 5 6 7 8 9 \n",
      "0 1 2 3 4 5 6 7 8 9 \n",
      "0 1 2 3 4 5 6 7 8 9 \n",
      "0 1 2 3 4 5 6 7 8 9 \n"
     ]
    }
   ],
   "source": [
    "for n in range(10):\n",
    "    for i in range(10):\n",
    "        print(i, end=\" \")\n",
    "    print()"
   ]
  },
  {
   "cell_type": "code",
   "execution_count": 91,
   "id": "febc8a82-0673-47b1-9854-805aec9933b4",
   "metadata": {},
   "outputs": [
    {
     "name": "stdout",
     "output_type": "stream",
     "text": [
      "\n",
      "0 \n",
      "0 1 \n",
      "0 1 2 \n",
      "0 1 2 3 \n",
      "0 1 2 3 4 \n",
      "0 1 2 3 4 5 \n",
      "0 1 2 3 4 5 6 \n",
      "0 1 2 3 4 5 6 7 \n",
      "0 1 2 3 4 5 6 7 8 \n",
      "0 1 2 3 4 5 6 7 8 9 \n"
     ]
    }
   ],
   "source": [
    "for n in range(11):\n",
    "    for i in range(n):\n",
    "        print(i, end=\" \")\n",
    "    print()"
   ]
  },
  {
   "cell_type": "code",
   "execution_count": 93,
   "id": "8bb90fcb-05f1-48d5-84b6-af3b9c53671d",
   "metadata": {},
   "outputs": [
    {
     "name": "stdout",
     "output_type": "stream",
     "text": [
      "          0 1 2 3 4 5 6 7 8 9 \n",
      "          0 1 2 3 4 5 6 7 8 \n",
      "          0 1 2 3 4 5 6 7 \n",
      "          0 1 2 3 4 5 6 \n",
      "          0 1 2 3 4 5 \n",
      "          0 1 2 3 4 \n",
      "          0 1 2 3 \n",
      "          0 1 2 \n",
      "          0 1 \n",
      "          0 \n"
     ]
    }
   ],
   "source": [
    "for n in reversed(range(10)):\n",
    "    for s in reversed(range(10)):\n",
    "        print(\" \", end=\"\")\n",
    "    for i in range(n+1):\n",
    "        print(i, end=\" \")\n",
    "    print()"
   ]
  },
  {
   "cell_type": "code",
   "execution_count": 97,
   "id": "9129cdc7-8a09-4f59-9cf8-1c111f2462c3",
   "metadata": {},
   "outputs": [
    {
     "name": "stdout",
     "output_type": "stream",
     "text": [
      "0  0  0  0  0  0  0  0  0  0  \n",
      "0  1  2  3  4  5  6  7  8  9  \n",
      "0  2  4  6  8  10 12 14 16 18 \n",
      "0  3  6  9  12 15 18 21 24 27 \n",
      "0  4  8  12 16 20 24 28 32 36 \n",
      "0  5  10 15 20 25 30 35 40 45 \n",
      "0  6  12 18 24 30 36 42 48 54 \n",
      "0  7  14 21 28 35 42 49 56 63 \n",
      "0  8  16 24 32 40 48 56 64 72 \n",
      "0  9  18 27 36 45 54 63 72 81 \n"
     ]
    }
   ],
   "source": [
    "# Option 1 - not so good\n",
    "for row in range(0, 10):\n",
    "    for column in range(0, 10):\n",
    "        a = str(row*column).center(2)\n",
    "        print(a, end=\" \")\n",
    "    print()"
   ]
  },
  {
   "cell_type": "code",
   "execution_count": 99,
   "id": "33c75591-0e8b-489c-a057-0d548d8ae689",
   "metadata": {},
   "outputs": [
    {
     "name": "stdout",
     "output_type": "stream",
     "text": [
      "                1 \n",
      "              1 2 1 \n",
      "            1 2 3 2 1 \n",
      "          1 2 3 4 3 2 1 \n",
      "        1 2 3 4 5 4 3 2 1 \n",
      "      1 2 3 4 5 6 5 4 3 2 1 \n",
      "    1 2 3 4 5 6 7 6 5 4 3 2 1 \n",
      "  1 2 3 4 5 6 7 8 7 6 5 4 3 2 1 \n",
      "1 2 3 4 5 6 7 8 9 8 7 6 5 4 3 2 1 \n"
     ]
    }
   ],
   "source": [
    "for row in range(1, 10):\n",
    "    for space in range(9, row, -1):\n",
    "        print(\" \",end=\" \")\n",
    "    for num in range(1, row):\n",
    "        print(num, end=\" \")\n",
    "    for num2 in range(row, 0, -1):\n",
    "        print(num2, end=\" \")\n",
    "    print()"
   ]
  },
  {
   "cell_type": "code",
   "execution_count": 101,
   "id": "a18ed147-a93b-4b8b-bc59-8d6e81dcb013",
   "metadata": {},
   "outputs": [
    {
     "name": "stdout",
     "output_type": "stream",
     "text": [
      "                1 \n",
      "              1 2 1 \n",
      "            1 2 3 2 1 \n",
      "          1 2 3 4 3 2 1 \n",
      "        1 2 3 4 5 4 3 2 1 \n",
      "      1 2 3 4 5 6 5 4 3 2 1 \n",
      "    1 2 3 4 5 6 7 6 5 4 3 2 1 \n",
      "  1 2 3 4 5 6 7 8 7 6 5 4 3 2 1 \n",
      "1 2 3 4 5 6 7 8 9 8 7 6 5 4 3 2 1 \n",
      "  1 2 3 4 5 6 7 8 \n",
      "    1 2 3 4 5 6 7 \n",
      "      1 2 3 4 5 6 \n",
      "        1 2 3 4 5 \n",
      "          1 2 3 4 \n",
      "            1 2 3 \n",
      "              1 2 \n",
      "                1 \n"
     ]
    }
   ],
   "source": [
    "for row in range(1, 10):\n",
    "    for space in range(9, row, -1):\n",
    "        print(\" \",end=\" \")\n",
    "    for num in range(1, row):\n",
    "        print(num, end=\" \")\n",
    "    for num2 in range(row, 0, -1):\n",
    "        print(num2, end=\" \")\n",
    "    print()\n",
    "\n",
    "for row in range(1, 9):\n",
    "    for space in range(0, row):\n",
    "        print(\" \",end=\" \")\n",
    "    for num in range(1, 10-row):\n",
    "        print(num, end=\" \")\n",
    "    print()"
   ]
  },
  {
   "cell_type": "code",
   "execution_count": 103,
   "id": "492a09e1-15cd-442b-b569-df287aba3e48",
   "metadata": {},
   "outputs": [
    {
     "name": "stdin",
     "output_type": "stream",
     "text": [
      "Enter a sentence:  Walchand Institute of Technology, Solapur, Maharashtra\n"
     ]
    },
    {
     "name": "stdout",
     "output_type": "stream",
     "text": [
      "Input Sentence: Walchand Institute of Technology, Solapur, Maharashtra\n",
      "Reversed Sentence: arthsarahaM ,rupaloS ,ygolonhceT fo etutitsnI dnahclaW\n",
      "Indexes of Even Letters: [0, 2, 4, 6, 8, 10, 12, 14, 16, 18, 20, 22, 24, 26, 28, 30, 32, 34, 36, 38, 40, 42, 44, 46, 48, 50, 52]\n",
      "Indexes of Odd Letters: [1, 3, 5, 7, 9, 11, 13, 15, 17, 19, 21, 23, 25, 27, 29, 31, 33, 35, 37, 39, 41, 43, 45, 47, 49, 51, 53]\n",
      "Words in Sentence: ['Walchand', 'Institute', 'of', 'Technology,', 'Solapur,', 'Maharashtra']\n",
      "Vowels in Sentence: ['a', 'a', 'I', 'i', 'u', 'e', 'o', 'e', 'o', 'o', 'o', 'a', 'u', 'a', 'a', 'a', 'a']\n",
      "Repeating Characters Count: {' ': 5, 'u': 2, 'e': 2, 'h': 4, 'l': 3, 't': 4, 'r': 3, 'a': 7, 's': 2, 'c': 2, ',': 2, 'n': 3, 'o': 4}\n"
     ]
    }
   ],
   "source": [
    "sentence = input(\"Enter a sentence: \")\n",
    "print(\"Input Sentence:\", sentence)\n",
    "\n",
    "# Reverse the sentence\n",
    "def reverse_sentence(sentence):\n",
    "    return sentence[::-1]\n",
    "\n",
    "# Get indexes of even letters\n",
    "def even_letter_indexes(sentence):\n",
    "    return [i for i in range(len(sentence)) if i % 2 == 0]\n",
    "\n",
    "# Get indexes of odd letters\n",
    "def odd_letter_indexes(sentence):\n",
    "    return [i for i in range(len(sentence)) if i % 2 != 0]\n",
    "\n",
    "# Split sentence into words\n",
    "def split_words(sentence):\n",
    "    return sentence.split()\n",
    "\n",
    "# Find vowels in the sentence\n",
    "def find_vowels(sentence):\n",
    "    return [ch for ch in sentence if ch.lower() in 'aeiou']\n",
    "\n",
    "# Count repeating characters\n",
    "def count_repeating_characters(sentence):\n",
    "    return {ch: sentence.count(ch) for ch in set(sentence) if sentence.count(ch) > 1}\n",
    "\n",
    "print(\"Reversed Sentence:\", reverse_sentence(sentence))\n",
    "print(\"Indexes of Even Letters:\", even_letter_indexes(sentence))\n",
    "print(\"Indexes of Odd Letters:\", odd_letter_indexes(sentence))\n",
    "print(\"Words in Sentence:\", split_words(sentence))\n",
    "print(\"Vowels in Sentence:\", find_vowels(sentence))\n",
    "print(\"Repeating Characters Count:\", count_repeating_characters(sentence))"
   ]
  },
  {
   "cell_type": "code",
   "execution_count": 117,
   "id": "86ba94ee-88fd-4f97-b797-1e08c26162ce",
   "metadata": {},
   "outputs": [
    {
     "name": "stdin",
     "output_type": "stream",
     "text": [
      "Enter a sentence:  Walchand Institute of Technology, Solapur, Maharashtra\n"
     ]
    },
    {
     "name": "stdout",
     "output_type": "stream",
     "text": [
      "Input Sentence: Walchand Institute of Technology, Solapur, Maharashtra\n",
      "Reversed Sentence: arthsarahaM ,rupaloS ,ygolonhceT fo etutitsnI dnahclaW\n",
      "Indexes of Even Letters: [0, 2, 4, 6, 8, 10, 12, 14, 16, 18, 20, 22, 24, 26, 28, 30, 32, 34, 36, 38, 40, 42, 44, 46, 48, 50, 52]\n",
      "Indexes of Odd Letters: [1, 3, 5, 7, 9, 11, 13, 15, 17, 19, 21, 23, 25, 27, 29, 31, 33, 35, 37, 39, 41, 43, 45, 47, 49, 51, 53]\n",
      "Words in Sentence: ['Walchand', 'Institute', 'of', 'Technology,', 'Solapur,', 'Maharashtra']\n",
      "Vowels in Sentence: ['a', 'a', 'I', 'i', 'u', 'e', 'o', 'e', 'o', 'o', 'o', 'a', 'u', 'a', 'a', 'a', 'a']\n",
      "Repeating Characters Count: {'a': 7, 'l': 3, 'c': 2, 'h': 4, 'n': 3, ' ': 5, 's': 2, 't': 4, 'u': 2, 'e': 2, 'o': 4, ',': 2, 'r': 3}\n"
     ]
    }
   ],
   "source": [
    "sentence = input(\"Enter a sentence: \")\n",
    "print(\"Input Sentence:\", sentence)\n",
    "\n",
    "# Reverse the sentence\n",
    "def reverse_sentence(sentence):\n",
    "    reversed_str = \"\"\n",
    "    for ch in sentence[::-1]:\n",
    "        reversed_str += ch\n",
    "    return reversed_str\n",
    "\n",
    "# Get indexes of even letters\n",
    "def even_letter_indexes(sentence):\n",
    "    even_indexes = []\n",
    "    for i in range(len(sentence)):\n",
    "        if i % 2 == 0:\n",
    "            even_indexes.append(i)\n",
    "    return even_indexes\n",
    "\n",
    "# Get indexes of odd letters\n",
    "def odd_letter_indexes(sentence):\n",
    "    odd_indexes = []\n",
    "    for i in range(len(sentence)):\n",
    "        if i % 2 != 0:\n",
    "            odd_indexes.append(i)\n",
    "    return odd_indexes\n",
    "\n",
    "# Split sentence into words \n",
    "def split_words(sentence):\n",
    "    words = []\n",
    "    word = \"\"\n",
    "    for ch in sentence:\n",
    "        if ch == \" \":\n",
    "            if word:\n",
    "                words.append(word)\n",
    "                word = \"\"\n",
    "        else:\n",
    "            word += ch\n",
    "    if word:\n",
    "        words.append(word)\n",
    "    return words\n",
    "\n",
    "# Find vowels\n",
    "def find_vowels(sentence):\n",
    "    vowels = []\n",
    "    for ch in sentence:\n",
    "        if ch.lower() in 'aeiou':\n",
    "            vowels.append(ch)\n",
    "    return vowels\n",
    "\n",
    "# Count repeating characters\n",
    "def count_repeating_characters(sentence):\n",
    "    char_count = {}\n",
    "    for ch in sentence: \n",
    "        if ch in char_count:\n",
    "            char_count[ch] += 1\n",
    "        else:\n",
    "            char_count[ch] = 1\n",
    "    repeating_chars = {ch: count for ch, count in char_count.items() if count > 1}\n",
    "    return repeating_chars\n",
    "\n",
    "print(\"Reversed Sentence:\", reverse_sentence(sentence))\n",
    "print(\"Indexes of Even Letters:\", even_letter_indexes(sentence))\n",
    "print(\"Indexes of Odd Letters:\", odd_letter_indexes(sentence))\n",
    "print(\"Words in Sentence:\", split_words(sentence))\n",
    "print(\"Vowels in Sentence:\", find_vowels(sentence))\n",
    "print(\"Repeating Characters Count:\", count_repeating_characters(sentence))"
   ]
  },
  {
   "cell_type": "code",
   "execution_count": 115,
   "id": "2ff06b9c-75b2-4a74-8444-fe9a3eeb82af",
   "metadata": {},
   "outputs": [
    {
     "name": "stdin",
     "output_type": "stream",
     "text": [
      "Enter a sentence:  Walchand Institute of Technology, Solapur, Maharashtra\n"
     ]
    },
    {
     "name": "stdout",
     "output_type": "stream",
     "text": [
      "Input Sentence: Walchand Institute of Technology, Solapur, Maharashtra\n",
      "Modified Sentence: W*lch*nd Institute of Technology, Sol*pur, M*h*r*shtr*\n"
     ]
    }
   ],
   "source": [
    "sentence = input(\"Enter a sentence: \")\n",
    "print(\"Input Sentence:\", sentence)\n",
    "\n",
    "# Replace 'a' with '*'\n",
    "def replace_a_with_star(sentence):\n",
    "    modified_sentence = \"\"\n",
    "    for ch in sentence:\n",
    "        if ch.lower() == 'a':\n",
    "            modified_sentence += '*'\n",
    "        else:\n",
    "            modified_sentence += ch\n",
    "    return modified_sentence\n",
    "print(\"Modified Sentence:\", replace_a_with_star(sentence))"
   ]
  },
  {
   "cell_type": "code",
   "execution_count": 1,
   "id": "c17945fc-3165-46b4-a40f-e2f240319225",
   "metadata": {},
   "outputs": [
    {
     "name": "stdin",
     "output_type": "stream",
     "text": [
      "Enter a sentence:  Walchand Institute of Technology, Solapur, Maharashtra\n"
     ]
    },
    {
     "name": "stdout",
     "output_type": "stream",
     "text": [
      "Input Sentence: Walchand Institute of Technology, Solapur, Maharashtra\n",
      "Reversed Sentence: arthsarahaM ,rupaloS ,ygolonhceT fo etutitsnI dnahclaW\n",
      "Indexes of Even Letters: [0, 2, 4, 6, 8, 10, 12, 14, 16, 18, 20, 22, 24, 26, 28, 30, 32, 34, 36, 38, 40, 42, 44, 46, 48, 50, 52]\n",
      "Indexes of Odd Letters: [1, 3, 5, 7, 9, 11, 13, 15, 17, 19, 21, 23, 25, 27, 29, 31, 33, 35, 37, 39, 41, 43, 45, 47, 49, 51, 53]\n",
      "Words in Sentence: ['Walchand', 'Institute', 'of', 'Technology,', 'Solapur,', 'Maharashtra']\n",
      "Vowels in Sentence: ['a', 'a', 'I', 'i', 'u', 'e', 'o', 'e', 'o', 'o', 'o', 'a', 'u', 'a', 'a', 'a', 'a']\n",
      "Repeating Characters Count: {'a': 7, 'l': 3, 'c': 2, 'h': 4, 'n': 3, ' ': 5, 's': 2, 't': 4, 'u': 2, 'e': 2, 'o': 4, ',': 2, 'r': 3}\n"
     ]
    },
    {
     "name": "stdin",
     "output_type": "stream",
     "text": [
      "Enter a sentence:  Walchand Institute of Technology, Solapur, Maharashtra\n"
     ]
    },
    {
     "name": "stdout",
     "output_type": "stream",
     "text": [
      "Input Sentence: Walchand Institute of Technology, Solapur, Maharashtra\n",
      "Modified Sentence: W*lch*nd Institute of Technology, Sol*pur, M*h*r*shtr*\n"
     ]
    }
   ],
   "source": [
    "sentence = input(\"Enter a sentence: \")\n",
    "print(\"Input Sentence:\", sentence)\n",
    "\n",
    "# Reverse the sentence\n",
    "def reverse_sentence(sentence):\n",
    "    reversed_str = \"\"\n",
    "    for ch in sentence[::-1]:\n",
    "        reversed_str += ch\n",
    "    return reversed_str\n",
    "\n",
    "# Get indexes of even letters\n",
    "def even_letter_indexes(sentence):\n",
    "    even_indexes = []\n",
    "    for i in range(len(sentence)):\n",
    "        if i % 2 == 0:\n",
    "            even_indexes.append(i)\n",
    "    return even_indexes\n",
    "\n",
    "# Get indexes of odd letters\n",
    "def odd_letter_indexes(sentence):\n",
    "    odd_indexes = []\n",
    "    for i in range(len(sentence)):\n",
    "        if i % 2 != 0:\n",
    "            odd_indexes.append(i)\n",
    "    return odd_indexes\n",
    "\n",
    "# Split sentence into words \n",
    "def split_words(sentence):\n",
    "    words = []\n",
    "    word = \"\"\n",
    "    for ch in sentence:\n",
    "        if ch == \" \":\n",
    "            if word:\n",
    "                words.append(word)\n",
    "                word = \"\"\n",
    "        else:\n",
    "            word += ch\n",
    "    if word:\n",
    "        words.append(word)\n",
    "    return words\n",
    "\n",
    "# Find vowels\n",
    "def find_vowels(sentence):\n",
    "    vowels = []\n",
    "    for ch in sentence:\n",
    "        if ch.lower() in 'aeiou':\n",
    "            vowels.append(ch)\n",
    "    return vowels\n",
    "\n",
    "# Count repeating characters\n",
    "def count_repeating_characters(sentence):\n",
    "    char_count = {}\n",
    "    for ch in sentence:\n",
    "        if ch in char_count:\n",
    "            char_count[ch] += 1\n",
    "        else:\n",
    "            char_count[ch] = 1\n",
    "    repeating_chars = {ch: count for ch, count in char_count.items() if count > 1}\n",
    "    return repeating_chars\n",
    "\n",
    "print(\"Reversed Sentence:\", reverse_sentence(sentence))\n",
    "print(\"Indexes of Even Letters:\", even_letter_indexes(sentence))\n",
    "print(\"Indexes of Odd Letters:\", odd_letter_indexes(sentence))\n",
    "print(\"Words in Sentence:\", split_words(sentence))\n",
    "print(\"Vowels in Sentence:\", find_vowels(sentence))\n",
    "print(\"Repeating Characters Count:\", count_repeating_characters(sentence))\n",
    "\n",
    "sentence = input(\"Enter a sentence: \")\n",
    "print(\"Input Sentence:\", sentence)\n",
    "\n",
    "# Replace 'a' with '*'\n",
    "def replace_a_with_star(sentence):\n",
    "    modified_sentence = \"\"\n",
    "    for ch in sentence:\n",
    "        if ch.lower() == 'a':\n",
    "            modified_sentence += '*'\n",
    "        else:\n",
    "            modified_sentence += ch\n",
    "    return modified_sentence\n",
    "print(\"Modified Sentence:\", replace_a_with_star(sentence))"
   ]
  },
  {
   "cell_type": "code",
   "execution_count": 5,
   "id": "0e75939c-3b28-46bb-b598-c357de3e4563",
   "metadata": {},
   "outputs": [
    {
     "name": "stdin",
     "output_type": "stream",
     "text": [
      "Enter a string:  Walchand Institute of Technology, Solapur, Maharashtra\n"
     ]
    },
    {
     "name": "stdout",
     "output_type": "stream",
     "text": [
      "Converted string: wALCHAND iNSTITUTE OF tECHNOLOGY, sOLAPUR, mAHARASHTRA\n"
     ]
    }
   ],
   "source": [
    "def swap_case(s):\n",
    "    return s.swapcase()\n",
    "input_string = input(\"Enter a string: \")\n",
    "output_string = swap_case(input_string)\n",
    "print(\"Converted string:\", output_string)"
   ]
  },
  {
   "cell_type": "code",
   "execution_count": 9,
   "id": "0d30e88d-c3f9-4652-8d9b-02f35d154583",
   "metadata": {},
   "outputs": [
    {
     "name": "stdin",
     "output_type": "stream",
     "text": [
      "Enter a string:  Walchand Institute of Technology, Solapur, Maharashtra\n"
     ]
    },
    {
     "name": "stdout",
     "output_type": "stream",
     "text": [
      "Converted string: wALCHAND iNSTITUTE OF tECHNOLOGY, sOLAPUR, mAHARASHTRA\n"
     ]
    }
   ],
   "source": [
    "def swap_case_manual(s):\n",
    "    result = \"\"\n",
    "    for char in s:\n",
    "        if 'a' <= char <= 'z':  \n",
    "            result += chr(ord(char) - 32)\n",
    "        elif 'A' <= char <= 'Z':  \n",
    "            result += chr(ord(char) + 32)\n",
    "        else:\n",
    "            result += char \n",
    "    return result\n",
    "input_string = input(\"Enter a string: \")\n",
    "output_string = swap_case_manual(input_string)\n",
    "print(\"Converted string:\", output_string)"
   ]
  },
  {
   "cell_type": "code",
   "execution_count": 13,
   "id": "5ac7fd1d-f454-488f-89cd-dd07a7da8bfc",
   "metadata": {},
   "outputs": [
    {
     "data": {
      "text/plain": [
       "8"
      ]
     },
     "execution_count": 13,
     "metadata": {},
     "output_type": "execute_result"
    }
   ],
   "source": [
    "def length(str):\n",
    "    count=0;\n",
    "    for i in str:\n",
    "        count=count+1\n",
    "    return count\n",
    "str=\"Himanshi\"\n",
    "length(str)"
   ]
  },
  {
   "cell_type": "code",
   "execution_count": 17,
   "id": "655887e7-7ddc-4929-823f-65d18629a3fe",
   "metadata": {},
   "outputs": [
    {
     "name": "stdin",
     "output_type": "stream",
     "text": [
      "Enter a string:  Walchand Institute of Technology, Solapur, Maharashtra, 413006\n"
     ]
    },
    {
     "name": "stdout",
     "output_type": "stream",
     "text": [
      "Converted string: wALCHAND iNSTITUTE OF tECHNOLOGY, sOLAPUR, mAHARASHTRA, 413006\n"
     ]
    }
   ],
   "source": [
    "def swap_case_manual(s):\n",
    "    result = \"\"\n",
    "    for char in s:\n",
    "        if 'a' <= char <= 'z':  \n",
    "            result += chr(ord(char) - 32)\n",
    "        elif 'A' <= char <= 'Z':  \n",
    "            result += chr(ord(char) + 32)\n",
    "        else:\n",
    "            result += char \n",
    "    return result\n",
    "input_string = input(\"Enter a string: \")\n",
    "output_string = swap_case_manual(input_string)\n",
    "print(\"Converted string:\", output_string)"
   ]
  },
  {
   "cell_type": "code",
   "execution_count": 5,
   "id": "1121e471-205c-4b4c-82c7-3a8485000bfa",
   "metadata": {},
   "outputs": [
    {
     "name": "stdout",
     "output_type": "stream",
     "text": [
      "x is currently:  0\n",
      " x is still less than 10, adding 1 to x\n",
      "x is currently:  1\n",
      " x is still less than 10, adding 1 to x\n",
      "x is currently:  2\n",
      " x is still less than 10, adding 1 to x\n",
      "x is currently:  3\n",
      " x is still less than 10, adding 1 to x\n",
      "x is currently:  4\n",
      " x is still less than 10, adding 1 to x\n",
      "x is currently:  5\n",
      " x is still less than 10, adding 1 to x\n",
      "x is currently:  6\n",
      " x is still less than 10, adding 1 to x\n",
      "x is currently:  7\n",
      " x is still less than 10, adding 1 to x\n",
      "x is currently:  8\n",
      " x is still less than 10, adding 1 to x\n",
      "x is currently:  9\n",
      " x is still less than 10, adding 1 to x\n",
      "\n",
      " All Done!\n"
     ]
    }
   ],
   "source": [
    "x = 0\n",
    "while x < 10:\n",
    "    print('x is currently: ',x)\n",
    "    print(' x is still less than 10, adding 1 to x')\n",
    "    x+=1\n",
    "else:\n",
    "    print('\\n All Done!')"
   ]
  },
  {
   "cell_type": "code",
   "execution_count": 9,
   "id": "b987c34d-c5e5-4009-abe8-a61b735d20a6",
   "metadata": {},
   "outputs": [
    {
     "name": "stdin",
     "output_type": "stream",
     "text": [
      "Enter a number:  153\n"
     ]
    },
    {
     "name": "stdout",
     "output_type": "stream",
     "text": [
      "153 is an Armstrong number\n"
     ]
    }
   ],
   "source": [
    "num = int(input(\"Enter a number: \"))\n",
    "original_num = num\n",
    "sum_of_digits = 0\n",
    "temp = num\n",
    "digits = 0\n",
    "while temp > 0:\n",
    "    digits += 1\n",
    "    temp //= 10\n",
    "while num > 0:\n",
    "    digit = num % 10 \n",
    "    sum_of_digits += digit ** digits \n",
    "    num //= 10 \n",
    "if sum_of_digits == original_num:\n",
    "    print(original_num, \"is an Armstrong number\")\n",
    "else:\n",
    "    print(original_num, \"is not an Armstrong number\")"
   ]
  },
  {
   "cell_type": "code",
   "execution_count": 11,
   "id": "4ee1bd29-100a-443f-a2dc-d2bbe7f32666",
   "metadata": {},
   "outputs": [
    {
     "name": "stdout",
     "output_type": "stream",
     "text": [
      "    * \n",
      "   * * \n",
      "  * * * \n",
      " * * * * \n",
      "* * * * * \n"
     ]
    }
   ],
   "source": [
    "rows = 5\n",
    "i = 1\n",
    "\n",
    "while i <= rows:\n",
    "    spaces = rows - i\n",
    "    j = 0\n",
    "    while j < spaces:\n",
    "        print(\" \", end=\"\")\n",
    "        j += 1\n",
    "    \n",
    "    k = 0\n",
    "    while k < i:\n",
    "        print(\"* \", end=\"\")\n",
    "        k += 1\n",
    "\n",
    "    print()\n",
    "    i += 1\n"
   ]
  },
  {
   "cell_type": "code",
   "execution_count": 13,
   "id": "5db9b731-3fcd-41b4-b02a-2891a6c63e5d",
   "metadata": {},
   "outputs": [
    {
     "name": "stdout",
     "output_type": "stream",
     "text": [
      "    1 \n",
      "   2 3 \n",
      "  4 5 6 \n",
      " 7 8 9 10 \n",
      "11 12 13 14 15 \n"
     ]
    }
   ],
   "source": [
    "rows = 5\n",
    "i = 1\n",
    "num = 1\n",
    "\n",
    "while i <= rows:\n",
    "    spaces = rows - i\n",
    "    j = 0\n",
    "    while j < spaces:\n",
    "        print(\" \", end=\"\")\n",
    "        j += 1\n",
    "    \n",
    "    k = 0\n",
    "    while k < i:\n",
    "        print(num, end=\" \")\n",
    "        num += 1\n",
    "        k += 1\n",
    "\n",
    "    print()\n",
    "    i += 1\n"
   ]
  },
  {
   "cell_type": "code",
   "execution_count": 15,
   "id": "b1a4874c-a823-4788-aba1-63fa59ab2280",
   "metadata": {},
   "outputs": [
    {
     "name": "stdout",
     "output_type": "stream",
     "text": [
      "    1 \n",
      "   2 2 \n",
      "  3 3 3 \n",
      " 4 4 4 4 \n",
      "5 5 5 5 5 \n"
     ]
    }
   ],
   "source": [
    "rows = 5\n",
    "i = 1\n",
    "\n",
    "while i <= rows:\n",
    "    spaces = rows - i\n",
    "    j = 0\n",
    "    while j < spaces:\n",
    "        print(\" \", end=\"\")\n",
    "        j += 1\n",
    "    \n",
    "    k = 0\n",
    "    while k < i:\n",
    "        print(i, end=\" \")\n",
    "        k += 1\n",
    "\n",
    "    print()\n",
    "    i += 1\n"
   ]
  },
  {
   "cell_type": "code",
   "execution_count": 19,
   "id": "aa0de6e9-32de-4a0c-88e1-4ec83fc3894c",
   "metadata": {},
   "outputs": [
    {
     "name": "stdout",
     "output_type": "stream",
     "text": [
      "5 4 3 2 1 \n",
      " 4 3 2 1 \n",
      "  3 2 1 \n",
      "   2 1 \n",
      "    1 \n"
     ]
    }
   ],
   "source": [
    "rows = 5\n",
    "i = rows\n",
    "\n",
    "while i >= 1:\n",
    "    spaces = rows - i\n",
    "    j = 0\n",
    "    while j < spaces:\n",
    "        print(\" \", end=\"\")\n",
    "        j += 1\n",
    "    \n",
    "    k = i\n",
    "    while k >= 1:\n",
    "        print(k, end=\" \")\n",
    "        k -= 1\n",
    "\n",
    "    print()\n",
    "    i -= 1"
   ]
  },
  {
   "cell_type": "code",
   "execution_count": 25,
   "id": "a5654f54-2fbe-41fd-93b1-4a7a57a386f7",
   "metadata": {},
   "outputs": [
    {
     "name": "stdout",
     "output_type": "stream",
     "text": [
      "Buddy says Bark\n",
      "Whiskers says Meow\n"
     ]
    }
   ],
   "source": [
    "#Inheritance\n",
    "class Animal:\n",
    "    def __init__(self, name):\n",
    "        self.name = name\n",
    "\n",
    "    def speak(self):\n",
    "        return \"Animal sound\"\n",
    "\n",
    "class Dog(Animal):\n",
    "    def speak(self):\n",
    "        return \"Bark\"\n",
    "\n",
    "class Cat(Animal):\n",
    "    def speak(self):\n",
    "        return \"Meow\"\n",
    "\n",
    "animals = [Dog(\"Buddy\"), Cat(\"Whiskers\")]\n",
    "i = 0\n",
    "\n",
    "while i < len(animals):\n",
    "    print(animals[i].name, \"says\", animals[i].speak())\n",
    "    i += 1"
   ]
  },
  {
   "cell_type": "code",
   "execution_count": 29,
   "id": "5365cc1e-2b8a-46ef-9d7f-b541b0bb065a",
   "metadata": {},
   "outputs": [
    {
     "name": "stdin",
     "output_type": "stream",
     "text": [
      "Enter a number:  5\n"
     ]
    },
    {
     "name": "stdout",
     "output_type": "stream",
     "text": [
      "5 is a prime number\n"
     ]
    }
   ],
   "source": [
    "#Prime number\n",
    "num = int(input(\"Enter a number: \"))\n",
    "\n",
    "if num < 2:\n",
    "    print(num, \"is not a prime number\")\n",
    "else:\n",
    "    i = 2\n",
    "    is_prime = True\n",
    "\n",
    "    while i * i <= num:\n",
    "        if num % i == 0:\n",
    "            is_prime = False\n",
    "            break\n",
    "        i += 1\n",
    "\n",
    "    if is_prime:\n",
    "        print(num, \"is a prime number\")\n",
    "    else:\n",
    "        print(num, \"is not a prime number\")"
   ]
  },
  {
   "cell_type": "code",
   "execution_count": 39,
   "id": "b992fc9f-9822-48d7-a796-d12d9df20b3c",
   "metadata": {},
   "outputs": [
    {
     "name": "stdin",
     "output_type": "stream",
     "text": [
      "Enter the number of terms:  5\n"
     ]
    },
    {
     "name": "stdout",
     "output_type": "stream",
     "text": [
      "Fibonacci Series: 0 1 1 2 3 "
     ]
    }
   ],
   "source": [
    "def fibonacci(n):\n",
    "    a, b = 0, 1\n",
    "    count = 0\n",
    "    if n <= 0:\n",
    "        print(\"Please enter a positive integer.\")\n",
    "        return\n",
    "    print(\"Fibonacci Series:\", end=\" \")\n",
    "    while True:\n",
    "        print(a, end=\" \")\n",
    "        count += 1\n",
    "        if count >= n:  \n",
    "            break\n",
    "        a, b = b, a + b \n",
    "num_terms = int(input(\"Enter the number of terms: \"))\n",
    "fibonacci(num_terms)"
   ]
  },
  {
   "cell_type": "code",
   "execution_count": 41,
   "id": "2aee5a2c-6d31-4b90-af3c-77971a222d98",
   "metadata": {},
   "outputs": [
    {
     "name": "stdout",
     "output_type": "stream",
     "text": [
      "Sorted list: [1, 2, 5, 5, 6, 9]\n"
     ]
    }
   ],
   "source": [
    "numbers = [5, 2, 9, 1, 5, 6]\n",
    "n = len(numbers)\n",
    "i = 0\n",
    "\n",
    "while i < n - 1:\n",
    "    j = 0\n",
    "    while j < n - i - 1:\n",
    "        if numbers[j] > numbers[j + 1]:\n",
    "            numbers[j], numbers[j + 1] = numbers[j + 1], numbers[j]  # Swap\n",
    "        j += 1\n",
    "    i += 1\n",
    "\n",
    "print(\"Sorted list:\", numbers)"
   ]
  },
  {
   "cell_type": "code",
   "execution_count": 43,
   "id": "8f73af79-9497-460c-bd48-d1577e28e757",
   "metadata": {},
   "outputs": [
    {
     "name": "stdout",
     "output_type": "stream",
     "text": [
      "Sorted list (descending): [9, 6, 5, 5, 2, 1]\n"
     ]
    }
   ],
   "source": [
    "numbers = [5, 2, 9, 1, 5, 6]\n",
    "n = len(numbers)\n",
    "i = 0\n",
    "while i < n - 1:\n",
    "    j = 0\n",
    "    while j < n - i - 1:\n",
    "        if numbers[j] < numbers[j + 1]:  \n",
    "            numbers[j], numbers[j + 1] = numbers[j + 1], numbers[j]  \n",
    "        j += 1\n",
    "    i += 1\n",
    "print(\"Sorted list (descending):\", numbers)"
   ]
  },
  {
   "cell_type": "code",
   "execution_count": 45,
   "id": "495cf890-9e60-489c-bc42-7888611e788a",
   "metadata": {},
   "outputs": [
    {
     "name": "stdin",
     "output_type": "stream",
     "text": [
      "Enter a number:  5\n"
     ]
    },
    {
     "name": "stdout",
     "output_type": "stream",
     "text": [
      "5 is an Armstrong number\n"
     ]
    }
   ],
   "source": [
    "def is_armstrong(num):\n",
    "    order = len(str(num))  \n",
    "    sum_of_digits = 0\n",
    "    temp = num   \n",
    "    while temp > 0:\n",
    "        digit = temp % 10\n",
    "        sum_of_digits += digit ** order\n",
    "        temp //= 10\n",
    "    return num == sum_of_digits  \n",
    "num = int(input(\"Enter a number: \"))\n",
    "if is_armstrong(num):\n",
    "    print(num, \"is an Armstrong number\")\n",
    "else:\n",
    "    print(num, \"is not an Armstrong number\")"
   ]
  },
  {
   "cell_type": "code",
   "execution_count": 63,
   "id": "e972bd85-869e-487c-a44e-846c40f16f21",
   "metadata": {},
   "outputs": [
    {
     "name": "stdin",
     "output_type": "stream",
     "text": [
      "Enter a number:  5\n"
     ]
    },
    {
     "name": "stdout",
     "output_type": "stream",
     "text": [
      "5 is a prime number\n"
     ]
    }
   ],
   "source": [
    "def is_prime(num):\n",
    "    if num < 2:\n",
    "        return False\n",
    "    i = 2\n",
    "    while i * i <= num:\n",
    "        if num % i == 0:\n",
    "            return False\n",
    "        i += 1\n",
    "    return True\n",
    "\n",
    "num = int(input(\"Enter a number: \"))\n",
    "\n",
    "if is_prime(num):\n",
    "    print(num, \"is a prime number\")\n",
    "else:\n",
    "    print(num, \"is not a prime number\")"
   ]
  },
  {
   "cell_type": "code",
   "execution_count": 53,
   "id": "aa95625d-0f43-4783-ae5e-02b5689d4af0",
   "metadata": {},
   "outputs": [
    {
     "name": "stdin",
     "output_type": "stream",
     "text": [
      "Enter the number of terms:  7\n"
     ]
    },
    {
     "name": "stdout",
     "output_type": "stream",
     "text": [
      "0 1 1 2 3 5 8 "
     ]
    }
   ],
   "source": [
    "def fibonacci(n):\n",
    "    a, b = 0, 1\n",
    "    count = 0\n",
    "    while count < n:\n",
    "        print(a, end=\" \")\n",
    "        a, b = b, a + b\n",
    "        count += 1\n",
    "num = int(input(\"Enter the number of terms: \"))\n",
    "if num <= 0:\n",
    "    print(\"Please enter a positive integer\")\n",
    "else:\n",
    "    fibonacci(num)"
   ]
  },
  {
   "cell_type": "code",
   "execution_count": 55,
   "id": "c91c41c4-6ab1-449b-b547-11b7d22451d0",
   "metadata": {},
   "outputs": [
    {
     "name": "stdout",
     "output_type": "stream",
     "text": [
      "    * \n",
      "   * * \n",
      "  * * * \n",
      " * * * * \n",
      "* * * * * \n",
      "\n",
      "    1 \n",
      "   2 3 \n",
      "  4 5 6 \n",
      " 7 8 9 10 \n",
      "11 12 13 14 15 \n",
      "\n",
      "    1 \n",
      "   2 2 \n",
      "  3 3 3 \n",
      " 4 4 4 4 \n",
      "5 5 5 5 5 \n",
      "\n",
      "5 4 3 2 1 \n",
      " 4 3 2 1 \n",
      "  3 2 1 \n",
      "   2 1 \n",
      "    1 \n"
     ]
    }
   ],
   "source": [
    "def pattern1(rows):\n",
    "    i = 1\n",
    "    while i <= rows:\n",
    "        print(\" \" * (rows - i) + \"* \" * i)\n",
    "        i += 1\n",
    "\n",
    "def pattern2(rows):\n",
    "    i = 1\n",
    "    num = 1\n",
    "    while i <= rows:\n",
    "        print(\" \" * (rows - i), end=\"\")\n",
    "        j = 1\n",
    "        while j <= i:\n",
    "            print(num, end=\" \")\n",
    "            num += 1\n",
    "            j += 1\n",
    "        print()\n",
    "        i += 1\n",
    "\n",
    "def pattern3(rows):\n",
    "    i = 1\n",
    "    while i <= rows:\n",
    "        print(\" \" * (rows - i), end=\"\")\n",
    "        j = 1\n",
    "        while j <= i:\n",
    "            print(i, end=\" \")\n",
    "            j += 1\n",
    "        print()\n",
    "        i += 1\n",
    "\n",
    "def pattern4(rows):\n",
    "    i = rows\n",
    "    while i >= 1:\n",
    "        print(\" \" * (rows - i), end=\"\")\n",
    "        j = i\n",
    "        while j >= 1:\n",
    "            print(j, end=\" \")\n",
    "            j -= 1\n",
    "        print()\n",
    "        i -= 1\n",
    "\n",
    "rows = 5\n",
    "pattern1(rows)\n",
    "print()\n",
    "pattern2(rows)\n",
    "print()\n",
    "pattern3(rows)\n",
    "print()\n",
    "pattern4(rows)\n"
   ]
  },
  {
   "cell_type": "code",
   "execution_count": 57,
   "id": "a6ee0b6c-7354-4c0a-9c56-14a89ec08c6b",
   "metadata": {},
   "outputs": [
    {
     "name": "stdout",
     "output_type": "stream",
     "text": [
      "This is the Parent class.\n",
      "This is the Child class.\n"
     ]
    }
   ],
   "source": [
    "class Parent:\n",
    "    def show(self):\n",
    "        print(\"This is the Parent class.\")\n",
    "\n",
    "class Child(Parent):\n",
    "    def display(self):\n",
    "        print(\"This is the Child class.\")\n",
    "\n",
    "obj = Child()\n",
    "obj.show()   \n",
    "obj.display() "
   ]
  },
  {
   "cell_type": "code",
   "execution_count": 59,
   "id": "92738ab8-0007-4632-9eda-d995dfde134e",
   "metadata": {},
   "outputs": [
    {
     "name": "stdout",
     "output_type": "stream",
     "text": [
      "Original List: [5, 2, 9, 1, 6, 8]\n",
      "Ascending Order: [1, 2, 5, 6, 8, 9]\n",
      "Descending Order: [9, 8, 6, 5, 2, 1]\n"
     ]
    }
   ],
   "source": [
    "def sort_ascending(lst):\n",
    "    lst.sort()\n",
    "    return lst\n",
    "\n",
    "def sort_descending(lst):\n",
    "    lst.sort(reverse=True)\n",
    "    return lst\n",
    "\n",
    "numbers = [5, 2, 9, 1, 6, 8]\n",
    "\n",
    "print(\"Original List:\", numbers)\n",
    "print(\"Ascending Order:\", sort_ascending(numbers[:]))  \n",
    "print(\"Descending Order:\", sort_descending(numbers[:]))  "
   ]
  },
  {
   "cell_type": "code",
   "execution_count": 61,
   "id": "7e3b6d83-7134-44da-bde8-8a5e26706824",
   "metadata": {},
   "outputs": [
    {
     "name": "stdin",
     "output_type": "stream",
     "text": [
      "Enter a sentence:  Walchand Institute of Technology, Solapur, Maharashtra, 413006\n"
     ]
    },
    {
     "name": "stdout",
     "output_type": "stream",
     "text": [
      "Reversed Sentence: 600314 ,arthsarahaM ,rupaloS ,ygolonhceT fo etutitsnI dnahclaW\n",
      "Indexes of Even Letters: [0, 2, 4, 6, 8, 10, 12, 14, 16, 18, 20, 22, 24, 26, 28, 30, 32, 34, 36, 38, 40, 42, 44, 46, 48, 50, 52, 54, 56, 58, 60]\n",
      "Indexes of Odd Letters: [1, 3, 5, 7, 9, 11, 13, 15, 17, 19, 21, 23, 25, 27, 29, 31, 33, 35, 37, 39, 41, 43, 45, 47, 49, 51, 53, 55, 57, 59, 61]\n",
      "Split Sentence into Words: ['Walchand', 'Institute', 'of', 'Technology,', 'Solapur,', 'Maharashtra,', '413006']\n",
      "Vowels in Sentence: ['a', 'a', 'I', 'i', 'u', 'e', 'o', 'e', 'o', 'o', 'o', 'a', 'u', 'a', 'a', 'a', 'a']\n",
      "Repeating Characters Count: {'a': 7, 'l': 3, 'c': 2, 'h': 4, 'n': 3, ' ': 6, 's': 2, 't': 4, 'u': 2, 'e': 2, 'o': 4, ',': 3, 'r': 3, '0': 2}\n",
      "Replace 'a' with '*': W*lch*nd Institute of Technology, Sol*pur, M*h*r*shtr*, 413006\n",
      "Swapped Characters (lower to upper, upper to lower): wALCHAND iNSTITUTE OF tECHNOLOGY, sOLAPUR, mAHARASHTRA, 413006\n",
      "Length of the String: 62\n"
     ]
    }
   ],
   "source": [
    "def reverse_sentence(s):\n",
    "    return s[::-1]\n",
    "\n",
    "def even_indexes(s):\n",
    "    return [i for i in range(len(s)) if i % 2 == 0]\n",
    "\n",
    "def odd_indexes(s):\n",
    "    return [i for i in range(len(s)) if i % 2 != 0]\n",
    "\n",
    "def split_words(s):\n",
    "    return s.split()\n",
    "\n",
    "def find_vowels(s):\n",
    "    vowels = \"aeiouAEIOU\"\n",
    "    return [char for char in s if char in vowels]\n",
    "\n",
    "def count_repeating_chars(s):\n",
    "    from collections import Counter\n",
    "    freq = Counter(s)\n",
    "    return {char: count for char, count in freq.items() if count > 1}\n",
    "\n",
    "def replace_a(s):\n",
    "    return s.replace('a', '*').replace('A', '*')\n",
    "\n",
    "def swap_case(s):\n",
    "    return s.swapcase()\n",
    "\n",
    "def string_length(s):\n",
    "    return len(s)\n",
    "\n",
    "# Taking user input\n",
    "a = input(\"Enter a sentence: \")\n",
    "\n",
    "# Calling functions and displaying results\n",
    "print(\"Reversed Sentence:\", reverse_sentence(a))\n",
    "print(\"Indexes of Even Letters:\", even_indexes(a))\n",
    "print(\"Indexes of Odd Letters:\", odd_indexes(a))\n",
    "print(\"Split Sentence into Words:\", split_words(a))\n",
    "print(\"Vowels in Sentence:\", find_vowels(a))\n",
    "print(\"Repeating Characters Count:\", count_repeating_chars(a))\n",
    "print(\"Replace 'a' with '*':\", replace_a(a))\n",
    "print(\"Swapped Characters (lower to upper, upper to lower):\", swap_case(a))\n",
    "print(\"Length of the String:\", string_length(a))"
   ]
  },
  {
   "cell_type": "code",
   "execution_count": 21,
   "id": "cc7ac1be-27ee-4eb0-8f74-108a799c1012",
   "metadata": {},
   "outputs": [
    {
     "name": "stdout",
     "output_type": "stream",
     "text": [
      "Toyota 2016\n"
     ]
    }
   ],
   "source": [
    "class car:\n",
    "    def __init__(self,modelname,year):\n",
    "        self.modelname = modelname\n",
    "        self.year = year\n",
    "    def display(self):\n",
    "        print(self.modelname, self.year)\n",
    "c1 = car(\"Toyota\",2016)\n",
    "c1.display()"
   ]
  },
  {
   "cell_type": "code",
   "execution_count": 29,
   "id": "586db0ed-0f44-4968-a67f-d429627f1c66",
   "metadata": {
    "scrolled": true
   },
   "outputs": [
    {
     "name": "stdout",
     "output_type": "stream",
     "text": [
      "Vehicle Details: 2020 Toyota Corolla\n",
      "Manufacturing year updated to 2023\n",
      "Vehicle Details: 2023 Toyota Corolla\n"
     ]
    }
   ],
   "source": [
    "class Vehicle:\n",
    "    def __init__(self, make, model, year):\n",
    "        self.make = make\n",
    "        self.model = model\n",
    "        self.year = year\n",
    "    def display_details(self):\n",
    "        print(f\"Vehicle Details: {self.year} {self.make} {self.model}\")\n",
    "    def update_year(self, new_year):\n",
    "        self.year = new_year\n",
    "        print(f\"Manufacturing year updated to {self.year}\")\n",
    "car = Vehicle(\"Toyota\", \"Corolla\", 2020)\n",
    "car.display_details()\n",
    "car.update_year(2023)\n",
    "car.display_details()"
   ]
  },
  {
   "cell_type": "code",
   "execution_count": 33,
   "id": "de5a10bf-99e2-4da5-81eb-6994bac633cb",
   "metadata": {},
   "outputs": [
    {
     "name": "stdout",
     "output_type": "stream",
     "text": [
      "Book \"1984\" added to the collection.\n",
      "Book \"To Kill a Mockingbird\" added to the collection.\n",
      "Current collection of books:\n",
      "- 1984\n",
      "- To Kill a Mockingbird\n",
      "Book \"1984\" removed from the collection.\n",
      "Current collection of books:\n",
      "- To Kill a Mockingbird\n"
     ]
    }
   ],
   "source": [
    "class Library:\n",
    "    def __init__(self):\n",
    "        self.books = []\n",
    "    def add_book(self, title):\n",
    "        self.books.append(title)\n",
    "        print(f'Book \"{title}\" added to the collection.')\n",
    "    def remove_book(self, title):\n",
    "        if title in self.books:\n",
    "            self.books.remove(title)\n",
    "            print(f'Book \"{title}\" removed from the collection.')\n",
    "        else:\n",
    "            print(f'Book \"{title}\" not found in the collection.')\n",
    "    def list_books(self):\n",
    "        if self.books:\n",
    "            print(\"Current collection of books:\")\n",
    "            for book in self.books:\n",
    "                print(f'- {book}')\n",
    "        else:\n",
    "            print(\"No books in the collection.\")\n",
    "library = Library()\n",
    "library.add_book(\"1984\")\n",
    "library.add_book(\"To Kill a Mockingbird\")\n",
    "library.list_books()\n",
    "library.remove_book(\"1984\")\n",
    "library.list_books()"
   ]
  },
  {
   "cell_type": "code",
   "execution_count": 35,
   "id": "132dfb3f-0ed8-408c-9501-76c9038d8afc",
   "metadata": {},
   "outputs": [],
   "source": [
    "lst = [1,2,3]"
   ]
  },
  {
   "cell_type": "code",
   "execution_count": 37,
   "id": "258bab52-5113-4bd6-9556-871d3669dff8",
   "metadata": {},
   "outputs": [
    {
     "data": {
      "text/plain": [
       "1"
      ]
     },
     "execution_count": 37,
     "metadata": {},
     "output_type": "execute_result"
    }
   ],
   "source": [
    "lst.count(2)"
   ]
  },
  {
   "cell_type": "code",
   "execution_count": 45,
   "id": "9c4aa171-b1cd-4cfb-8d1b-5914b1937410",
   "metadata": {},
   "outputs": [
    {
     "name": "stdout",
     "output_type": "stream",
     "text": [
      "<class 'int'>\n",
      "<class 'list'>\n",
      "<class 'tuple'>\n",
      "<class 'dict'>\n"
     ]
    }
   ],
   "source": [
    "#Object\n",
    "print(type(1))\n",
    "print(type([]))\n",
    "print(type(()))\n",
    "print(type({}))"
   ]
  },
  {
   "cell_type": "code",
   "execution_count": 51,
   "id": "ed4b18fb-61e0-49c8-9677-d9557b403f5c",
   "metadata": {},
   "outputs": [
    {
     "name": "stdout",
     "output_type": "stream",
     "text": [
      "<class '__main__.Sample'>\n"
     ]
    }
   ],
   "source": [
    "#class\n",
    "# Create a new object type called Sample\n",
    "class Sample:\n",
    "    pass\n",
    "# Instance of Sample\n",
    "x = Sample()\n",
    "print(type(x))"
   ]
  },
  {
   "cell_type": "code",
   "execution_count": 53,
   "id": "a9dd94c6-2d3a-4f5f-b493-8a6826f3302c",
   "metadata": {},
   "outputs": [],
   "source": [
    "#attributes\n",
    "class Dog:\n",
    "    def __init__(self,breed):\n",
    "        self.breed = breed\n",
    "sam = Dog(breed='Lab')\n",
    "frank = Dog(breed='Huskie')"
   ]
  },
  {
   "cell_type": "code",
   "execution_count": 55,
   "id": "8d6514cf-9462-41f4-be1d-7005833658cf",
   "metadata": {},
   "outputs": [],
   "source": [
    "# Python3 program to demonstrate defining a class, here we are creating an empty class\n",
    "class Dog:\n",
    "    pass"
   ]
  },
  {
   "cell_type": "code",
   "execution_count": 57,
   "id": "2068fb99-6e58-47f1-866c-e8a23d04bef6",
   "metadata": {},
   "outputs": [],
   "source": [
    "obj = Dog()\n",
    "#Class methods must have an extra first parameter in the method definition. We do not give a value for this parameter when we call the method, Python provides it\n",
    "#If we have a method that takes no arguments, then we still have to have one argument."
   ]
  },
  {
   "cell_type": "code",
   "execution_count": 59,
   "id": "56472506-d9e8-48d4-874e-51e04e3ae822",
   "metadata": {},
   "outputs": [
    {
     "name": "stdout",
     "output_type": "stream",
     "text": [
      "Rodger is a mammal\n",
      "Tommy is also a mammal\n",
      "My name is Rodger\n",
      "My name is Tommy\n"
     ]
    }
   ],
   "source": [
    "#Creating a class and object with class and instance attributes\n",
    "class Dog:\n",
    "\t# class attribute\n",
    "\tattr1 = \"mammal\"\n",
    "\t# Instance attribute\n",
    "\tdef __init__(self, name):\n",
    "\t\tself.name = name\n",
    "# Driver code\n",
    "# Object instantiation\n",
    "Rodger = Dog(\"Rodger\")\n",
    "Tommy = Dog(\"Tommy\")\n",
    "\n",
    "# Accessing class attributes\n",
    "print(\"Rodger is a {}\".format(Rodger.__class__.attr1))\n",
    "print(\"Tommy is also a {}\".format(Tommy.__class__.attr1))\n",
    "\n",
    "# Accessing instance attributes\n",
    "print(\"My name is {}\".format(Rodger.name))\n",
    "print(\"My name is {}\".format(Tommy.name))"
   ]
  },
  {
   "cell_type": "code",
   "execution_count": 65,
   "id": "0efda20c-27a6-4df9-8ae9-a409fd3eb3a9",
   "metadata": {},
   "outputs": [
    {
     "name": "stdout",
     "output_type": "stream",
     "text": [
      "Hello Cutieee\n"
     ]
    }
   ],
   "source": [
    "#example of a function\n",
    "def say_hello():\n",
    "    print('Hello Cutieee')\n",
    "say_hello()"
   ]
  },
  {
   "cell_type": "code",
   "execution_count": 67,
   "id": "32e6a76f-32db-4ccd-b0e7-7239a830380e",
   "metadata": {},
   "outputs": [
    {
     "data": {
      "text/plain": [
       "8"
      ]
     },
     "execution_count": 67,
     "metadata": {},
     "output_type": "execute_result"
    }
   ],
   "source": [
    "def add_num(num1,num2):\n",
    "    return num1+num2\n",
    "add_num(2,6)"
   ]
  },
  {
   "cell_type": "code",
   "execution_count": 69,
   "id": "1fbba79a-e768-4d4f-88ea-625e35a2c569",
   "metadata": {},
   "outputs": [],
   "source": [
    "#Return all even numbers in a list\n",
    "def check_even_list(num_list):\n",
    "    even_numbers = []\n",
    "    # Go through each number\n",
    "    for number in num_list:\n",
    "        # Once we get a \"hit\" on an even number, we append the even number\n",
    "        if number % 2 == 0:\n",
    "            even_numbers.append(number)\n",
    "        # Don't do anything if its not even\n",
    "        else:\n",
    "            pass\n",
    "    # Notice the indentation! This ensures we run through the entire for loop    \n",
    "    return even_numbers"
   ]
  },
  {
   "cell_type": "code",
   "execution_count": 71,
   "id": "d3abcba2-f837-440f-bae2-e95fe1069edb",
   "metadata": {},
   "outputs": [
    {
     "data": {
      "text/plain": [
       "[2, 4, 6]"
      ]
     },
     "execution_count": 71,
     "metadata": {},
     "output_type": "execute_result"
    }
   ],
   "source": [
    "check_even_list([1,2,3,4,5,6])"
   ]
  },
  {
   "cell_type": "code",
   "execution_count": 75,
   "id": "d8c3fe59-26d4-49ba-a545-08a447d3d03c",
   "metadata": {},
   "outputs": [
    {
     "name": "stdout",
     "output_type": "stream",
     "text": [
      "Distance: 9.433981132056603\n",
      "Slope: 1.6\n"
     ]
    }
   ],
   "source": [
    "import math\n",
    "\n",
    "class Line:\n",
    "    def __init__(self, coord1, coord2):\n",
    "        self.x1, self.y1 = coord1\n",
    "        self.x2, self.y2 = coord2\n",
    "\n",
    "    def distance(self):\n",
    "        return math.sqrt((self.x2 - self.x1) ** 2 + (self.y2 - self.y1) ** 2)\n",
    "\n",
    "    def slope(self):\n",
    "        if self.x2 - self.x1 == 0:\n",
    "            return None \n",
    "        return (self.y2 - self.y1) / (self.x2 - self.x1)\n",
    "\n",
    "line = Line((3, 2), (8, 10))\n",
    "print(\"Distance:\", line.distance())\n",
    "print(\"Slope:\", line.slope())"
   ]
  },
  {
   "cell_type": "code",
   "execution_count": 89,
   "id": "c7525a62-5a85-4066-885f-df5c9ee6ae32",
   "metadata": {},
   "outputs": [
    {
     "name": "stdout",
     "output_type": "stream",
     "text": [
      "Rahul\n",
      "886012\n",
      "My name is Rahul\n",
      "IdNumber: 886012\n",
      "Post: Intern\n"
     ]
    }
   ],
   "source": [
    "# Python code to demonstrate how parent constructors are called.\n",
    "\n",
    "# parent class\n",
    "class Person(object):\n",
    "\n",
    "\t# __init__ is known as the constructor\n",
    "\tdef __init__(self, name, idnumber):\n",
    "\t\tself.name = name\n",
    "\t\tself.idnumber = idnumber\n",
    "\n",
    "\tdef display(self):\n",
    "\t\tprint(self.name)\n",
    "\t\tprint(self.idnumber)\n",
    "\t\t\n",
    "\tdef details(self):\n",
    "\t\tprint(\"My name is {}\".format(self.name))\n",
    "\t\tprint(\"IdNumber: {}\".format(self.idnumber))\n",
    "\t\n",
    "# child class\n",
    "class Employee(Person):\n",
    "\tdef __init__(self, name, idnumber, salary, post):\n",
    "\t\tself.salary = salary\n",
    "\t\tself.post = post\n",
    "\n",
    "\t\t# invoking the __init__ of the parent class\n",
    "\t\tPerson.__init__(self, name, idnumber)\n",
    "\t\t\n",
    "\tdef details(self):\n",
    "\t\tprint(\"My name is {}\".format(self.name))\n",
    "\t\tprint(\"IdNumber: {}\".format(self.idnumber))\n",
    "\t\tprint(\"Post: {}\".format(self.post))\n",
    "        \n",
    "# creation of an object variable or an instance\n",
    "a = Employee('Rahul', 886012, 200000, \"Intern\")\n",
    "# calling a function of the class Person using\n",
    "# its instance\n",
    "a.display()\n",
    "a.details()"
   ]
  },
  {
   "cell_type": "code",
   "execution_count": 85,
   "id": "9cbd9153-fb54-4e2a-86da-a75277503522",
   "metadata": {},
   "outputs": [
    {
     "name": "stdout",
     "output_type": "stream",
     "text": [
      "There are many types of birds.\n",
      "Most of the birds can fly but some cannot.\n",
      "There are many types of birds.\n",
      "Sparrows can fly.\n",
      "There are many types of birds.\n",
      "Ostriches cannot fly.\n"
     ]
    }
   ],
   "source": [
    "class Bird:\n",
    "\tdef intro(self):\n",
    "\t\tprint(\"There are many types of birds.\")\n",
    "\tdef flight(self):\n",
    "\t\tprint(\"Most of the birds can fly but some cannot.\")\n",
    "class sparrow(Bird):\n",
    "\tdef flight(self):\n",
    "\t\tprint(\"Sparrows can fly.\")\n",
    "class ostrich(Bird):\n",
    "\tdef flight(self):\n",
    "\t\tprint(\"Ostriches cannot fly.\")\n",
    "obj_bird = Bird()\n",
    "obj_spr = sparrow()\n",
    "obj_ost = ostrich()\n",
    "\n",
    "obj_bird.intro()\n",
    "obj_bird.flight()\n",
    "obj_spr.intro()\n",
    "obj_spr.flight()\n",
    "obj_ost.intro()\n",
    "obj_ost.flight()"
   ]
  },
  {
   "cell_type": "code",
   "execution_count": 99,
   "id": "77a429f0-901f-4f94-a91d-02f3f1b3c421",
   "metadata": {},
   "outputs": [
    {
     "name": "stdout",
     "output_type": "stream",
     "text": [
      "This is dad's first method.\n",
      "This is mom's first method.\n",
      "This is child's first method.\n",
      "This is child's second method.\n"
     ]
    }
   ],
   "source": [
    "class Dad:\n",
    "    def dad_method1(self):\n",
    "        return \"This is dad's first method.\"\n",
    "    \n",
    "    def dad_method2(self):\n",
    "        return \"This is dad's second method.\"\n",
    "\n",
    "class Mom:\n",
    "    def mom_method1(self):\n",
    "        return \"This is mom's first method.\"\n",
    "    \n",
    "    def mom_method2(self):\n",
    "        return \"This is mom's second method.\"\n",
    "\n",
    "class Child(Dad, Mom):\n",
    "    def child_method1(self):\n",
    "        return \"This is child's first method.\"\n",
    "    \n",
    "    def child_method2(self):\n",
    "        return \"This is child's second method.\"\n",
    "\n",
    "child = Child()\n",
    "print(child.dad_method1())\n",
    "print(child.mom_method1())\n",
    "print(child.child_method1())\n",
    "print(child.child_method2())"
   ]
  },
  {
   "cell_type": "code",
   "execution_count": 101,
   "id": "9e98e233-872b-4478-9d87-61cf8d630761",
   "metadata": {},
   "outputs": [
    {
     "name": "stdout",
     "output_type": "stream",
     "text": [
      "This is dad's first method.\n",
      "This is mom's first method.\n",
      "This is child's first method.\n",
      "This is grandchild's method.\n"
     ]
    }
   ],
   "source": [
    "class GrandChild(Child):\n",
    "    def grandchild_method(self):\n",
    "        return \"This is grandchild's method.\"\n",
    "\n",
    "grandchild = GrandChild()\n",
    "print(grandchild.dad_method1())\n",
    "print(grandchild.mom_method1())\n",
    "print(grandchild.child_method1())\n",
    "print(grandchild.grandchild_method())"
   ]
  },
  {
   "cell_type": "code",
   "execution_count": 107,
   "id": "5a2f5c2a-23ea-4283-ae30-fca96e7b132e",
   "metadata": {},
   "outputs": [
    {
     "name": "stdout",
     "output_type": "stream",
     "text": [
      "Football game has started.\n",
      "Goal scored! The crowd is Shouting with Happiness!\n",
      "Football game has ended.\n"
     ]
    }
   ],
   "source": [
    "class Play:\n",
    "    def start_game(self):\n",
    "        return \"Football game has started.\"\n",
    "    \n",
    "    def score_goal(self):\n",
    "        return \"Goal scored! The crowd is Shouting with Happiness!\"\n",
    "    \n",
    "    def end_game(self):\n",
    "        return \"Football game has ended.\"\n",
    "\n",
    "play = Play()\n",
    "print(play.start_game())\n",
    "print(play.score_goal())\n",
    "print(play.end_game())"
   ]
  },
  {
   "cell_type": "code",
   "execution_count": 115,
   "id": "636112ae-8326-4f90-b5ce-ea901d32f7c5",
   "metadata": {},
   "outputs": [
    {
     "name": "stdout",
     "output_type": "stream",
     "text": [
      "121 is Palindrome: True\n",
      "7 is Prime: True\n",
      "153 is Armstrong: True\n"
     ]
    }
   ],
   "source": [
    "class Number:\n",
    "    def __init__(self, value):\n",
    "        self.value = value\n",
    "    \n",
    "    def is_palindrome(self):\n",
    "        return str(self.value) == str(self.value)[::-1]\n",
    "    \n",
    "    def is_prime(self):\n",
    "        if self.value < 2:\n",
    "            return False\n",
    "        for i in range(2, int(self.value ** 0.5) + 1):\n",
    "            if self.value % i == 0:\n",
    "                return False\n",
    "        return True\n",
    "    \n",
    "    def is_armstrong(self):\n",
    "        num_str = str(self.value)\n",
    "        power = len(num_str)\n",
    "        return self.value == sum(int(digit) ** power for digit in num_str)\n",
    "\n",
    "special_no1 = Number(121)  # Palindrome\n",
    "special_no2 = Number(7)    # Prime\n",
    "special_no3 = Number(153)  # Armstrong\n",
    "\n",
    "print(\"121 is Palindrome:\", special_no1.is_palindrome())\n",
    "print(\"7 is Prime:\", special_no2.is_prime())\n",
    "print(\"153 is Armstrong:\", special_no3.is_armstrong())"
   ]
  },
  {
   "cell_type": "code",
   "execution_count": 117,
   "id": "7f26677d-5f15-4c9b-9e26-9df3bf4db392",
   "metadata": {},
   "outputs": [
    {
     "name": "stdout",
     "output_type": "stream",
     "text": [
      "Reversed List: [7, 1, 9, 2, 5]\n",
      "Ascending Order: [1, 2, 5, 7, 9]\n",
      "Descending Order: [9, 7, 5, 2, 1]\n"
     ]
    }
   ],
   "source": [
    "class Parent:\n",
    "    def __init__(self, numbers):\n",
    "        self.numbers = numbers\n",
    "\n",
    "    def reverse_list(self):\n",
    "        return self.numbers[::-1]\n",
    "    \n",
    "    def ascending_sort(self):\n",
    "        return sorted(self.numbers)\n",
    "    \n",
    "    def descending_sort(self):\n",
    "        return sorted(self.numbers, reverse=True)\n",
    "\n",
    "class Sort1(Parent):\n",
    "    def sort_operation(self):\n",
    "        return self.reverse_list()\n",
    "\n",
    "class Sort2(Parent):\n",
    "    def sort_operation(self):\n",
    "        return self.ascending_sort()\n",
    "\n",
    "class Sort3(Parent):\n",
    "    def sort_operation(self):\n",
    "        return self.descending_sort()\n",
    "\n",
    "numbers = [5, 2, 9, 1, 7]\n",
    "\n",
    "obj1 = Sort1(numbers)\n",
    "print(\"Reversed List:\", obj1.sort_operation())\n",
    "\n",
    "obj2 = Sort2(numbers)\n",
    "print(\"Ascending Order:\", obj2.sort_operation())\n",
    "\n",
    "obj3 = Sort3(numbers)\n",
    "print(\"Descending Order:\", obj3.sort_operation())"
   ]
  },
  {
   "cell_type": "code",
   "execution_count": 119,
   "id": "38578199-3921-4e0e-bfed-8f815caa4ec4",
   "metadata": {},
   "outputs": [
    {
     "name": "stdout",
     "output_type": "stream",
     "text": [
      "Dog barks\n",
      "Cat meows\n"
     ]
    }
   ],
   "source": [
    "#Polymorphism\n",
    "class Animal:\n",
    "    def speak(self):\n",
    "        return \"Animal makes a sound\"\n",
    "\n",
    "class Dog(Animal):\n",
    "    def speak(self):\n",
    "        return \"Dog barks\"\n",
    "\n",
    "class Cat(Animal):\n",
    "    def speak(self):\n",
    "        return \"Cat meows\"\n",
    "\n",
    "def make_sound(animal):\n",
    "    print(animal.speak())\n",
    "\n",
    "animal1 = Dog()\n",
    "animal2 = Cat()\n",
    "\n",
    "make_sound(animal1)\n",
    "make_sound(animal2)\n"
   ]
  },
  {
   "cell_type": "code",
   "execution_count": null,
   "id": "086fbb1f-8d97-42c6-9e31-42ca90cdbd28",
   "metadata": {},
   "outputs": [],
   "source": []
  }
 ],
 "metadata": {
  "kernelspec": {
   "display_name": "Python 3 (ipykernel)",
   "language": "python",
   "name": "python3"
  },
  "language_info": {
   "codemirror_mode": {
    "name": "ipython",
    "version": 3
   },
   "file_extension": ".py",
   "mimetype": "text/x-python",
   "name": "python",
   "nbconvert_exporter": "python",
   "pygments_lexer": "ipython3",
   "version": "3.12.7"
  }
 },
 "nbformat": 4,
 "nbformat_minor": 5
}
