{
 "cells": [
  {
   "cell_type": "code",
   "execution_count": 5,
   "id": "853bb37c-c7b1-4ba1-b958-7a6936e0d3ce",
   "metadata": {},
   "outputs": [
    {
     "name": "stdin",
     "output_type": "stream",
     "text": [
      "Enter first number:  5\n"
     ]
    },
    {
     "name": "stdout",
     "output_type": "stream",
     "text": [
      "\n",
      "Choose operation: \n",
      "1. Addition (+)\n",
      "2. Subtraction (-)\n",
      "3. Multiplication (*)\n",
      "4. Division (/)\n",
      "5. Modulus (%)\n",
      "6. Floor Division (//)\n",
      "7. Exponentiation ()\n",
      "Type 'exit' to stop.\n",
      "\n"
     ]
    },
    {
     "name": "stdin",
     "output_type": "stream",
     "text": [
      "Enter your choice (1-7) or 'exit' to quit:  1\n",
      "Enter next number:  5\n"
     ]
    },
    {
     "name": "stdout",
     "output_type": "stream",
     "text": [
      "Result: 10.0\n"
     ]
    },
    {
     "name": "stdin",
     "output_type": "stream",
     "text": [
      "Enter your choice (1-7) or 'exit' to quit:  1\n",
      "Enter next number:  15\n"
     ]
    },
    {
     "name": "stdout",
     "output_type": "stream",
     "text": [
      "Result: 25.0\n"
     ]
    },
    {
     "name": "stdin",
     "output_type": "stream",
     "text": [
      "Enter your choice (1-7) or 'exit' to quit:  exit\n"
     ]
    },
    {
     "name": "stdout",
     "output_type": "stream",
     "text": [
      "Calculator closed\n"
     ]
    }
   ],
   "source": [
    "def add(a, b):\n",
    "    return a + b\n",
    "\n",
    "def subtract(a, b):\n",
    "    return a - b\n",
    "\n",
    "def multiply(a, b):\n",
    "    return a * b\n",
    "\n",
    "def divide(a, b):\n",
    "    return a / b if b != 0 else \"Error: Division by zero!\"\n",
    "\n",
    "def modulus(a, b):\n",
    "    return a % b if b != 0 else \"Error: Modulus by zero!\"\n",
    "\n",
    "def floor_division(a, b):\n",
    "    return a // b if b != 0 else \"Error: Floor division by zero!\"\n",
    "\n",
    "def exponentiate(a, b):\n",
    "    return a ** b\n",
    "\n",
    "def calculator():\n",
    "    result = float(input(\"Enter first number: \"))\n",
    "    print(\"\\nChoose operation: \")\n",
    "    print(\"1. Addition (+)\\n2. Subtraction (-)\\n3. Multiplication (*)\\n4. Division (/)\")\n",
    "    print(\"5. Modulus (%)\\n6. Floor Division (//)\\n7. Exponentiation ()\")\n",
    "    print(\"Type 'exit' to stop.\\n\")\n",
    "    \n",
    "    while True:        \n",
    "        choice = input(\"Enter your choice (1-7) or 'exit' to quit: \")\n",
    "        \n",
    "        if choice.lower() == 'exit':\n",
    "            print(\"Calculator closed\")\n",
    "            break\n",
    "        \n",
    "        if choice.isdigit():\n",
    "            choice = int(choice)\n",
    "            if choice in range(1, 8):\n",
    "                num = float(input(\"Enter next number: \"))\n",
    "                operations = {\n",
    "                    1: add,\n",
    "                    2: subtract,\n",
    "                    3: multiply,\n",
    "                    4: divide,\n",
    "                    5: modulus,\n",
    "                    6: floor_division,\n",
    "                    7: exponentiate\n",
    "                }\n",
    "                result = operations[choice](result, num)\n",
    "                print(\"Result:\", result)\n",
    "            else:\n",
    "                print(\"Invalid choice! Please select a number between 1 and 7.\")\n",
    "        else:\n",
    "            print(\"Invalid input! Please enter a number or 'exit'.\")\n",
    "\n",
    "calculator()"
   ]
  },
  {
   "cell_type": "code",
   "execution_count": 23,
   "id": "278389bc-2528-4984-a86f-fb7b4799ec0b",
   "metadata": {},
   "outputs": [
    {
     "name": "stdout",
     "output_type": "stream",
     "text": [
      "Tail\n"
     ]
    },
    {
     "data": {
      "text/plain": [
       "'Person1'"
      ]
     },
     "execution_count": 23,
     "metadata": {},
     "output_type": "execute_result"
    }
   ],
   "source": [
    "import random as rand\n",
    "rand.random()*100\n",
    "toss = rand.randint(0,1)\n",
    "if toss == 1:\n",
    "    print(\"Tail\")\n",
    "else:\n",
    "    print(\"Head\")\n",
    "\n",
    "#<true stmt> if <condition> else <false stmt>\n",
    "\n",
    "names = [\"Person1\",\"Person2\",\"Person3\"]\n",
    "rand.choice(names)"
   ]
  },
  {
   "cell_type": "code",
   "execution_count": 27,
   "id": "b0bc4a23-082c-480a-8be4-97c7469ab4c7",
   "metadata": {},
   "outputs": [
    {
     "name": "stdout",
     "output_type": "stream",
     "text": [
      "Charlie will pay for everyone's food bill!\n"
     ]
    }
   ],
   "source": [
    "import random\n",
    "\n",
    "def select_payer():\n",
    "    names = [\"Alice\", \"Bob\", \"Charlie\", \"David\", \"Emma\"]\n",
    "    random_index = random.randint(0, len(names) - 1)\n",
    "    payer = names[random_index]\n",
    "    print(f\"{payer} will pay for everyone's food bill!\")\n",
    "\n",
    "select_payer()"
   ]
  },
  {
   "cell_type": "code",
   "execution_count": 31,
   "id": "10a16451-5d51-4c22-8bdb-1de09ca856a1",
   "metadata": {},
   "outputs": [
    {
     "name": "stdout",
     "output_type": "stream",
     "text": [
      "Guess the number (between 1 and 100)! You have 5 attempts.\n"
     ]
    },
    {
     "name": "stdin",
     "output_type": "stream",
     "text": [
      "Attempt 1: Enter your guess:  50\n"
     ]
    },
    {
     "name": "stdout",
     "output_type": "stream",
     "text": [
      "Too high! Try a smaller number.\n",
      "You have 4 attempts left.\n"
     ]
    },
    {
     "name": "stdin",
     "output_type": "stream",
     "text": [
      "Attempt 2: Enter your guess:  40\n"
     ]
    },
    {
     "name": "stdout",
     "output_type": "stream",
     "text": [
      "🎉 Congratulations! You guessed it right. The number was 40.\n"
     ]
    }
   ],
   "source": [
    "import random\n",
    "secret_number = random.randint(1, 100)\n",
    "attempts = 5\n",
    "\n",
    "print(\"Guess the number (between 1 and 100)! You have 5 attempts.\")\n",
    "\n",
    "for i in range(attempts):\n",
    "    guess = int(input(f\"Attempt {i+1}: Enter your guess: \"))\n",
    "\n",
    "    if guess == secret_number:\n",
    "        print(f\"🎉 Congratulations! You guessed it right. The number was {secret_number}.\")\n",
    "        break\n",
    "    elif guess > secret_number:\n",
    "        print(\"Too high! Try a smaller number.\")\n",
    "    else:\n",
    "        print(\"Too low! Try a bigger number.\")\n",
    "\n",
    "    remaining_attempts = attempts - (i + 1)\n",
    "    if remaining_attempts > 0:\n",
    "        print(f\"You have {remaining_attempts} attempts left.\")\n",
    "    else:\n",
    "        print(f\"❌ Game Over! The correct number was {secret_number}. Better luck next time!\")"
   ]
  },
  {
   "cell_type": "code",
   "execution_count": 7,
   "id": "ba3a50ab-9479-4986-83b5-4c1b08d93195",
   "metadata": {},
   "outputs": [
    {
     "name": "stdout",
     "output_type": "stream",
     "text": [
      "[1, 2, 3]\n",
      "[2, 5, 7]\n"
     ]
    }
   ],
   "source": [
    "list1 = [1,2,3]\n",
    "list2 = list1\n",
    "list1 = [2,5,7]\n",
    "print(list2)\n",
    "print(list1)"
   ]
  },
  {
   "cell_type": "code",
   "execution_count": 15,
   "id": "e374fea1-8711-4785-a4d2-1b64f7ef256f",
   "metadata": {},
   "outputs": [
    {
     "name": "stdin",
     "output_type": "stream",
     "text": [
      "Enter your password:  Himanshi@15\n"
     ]
    },
    {
     "name": "stdout",
     "output_type": "stream",
     "text": [
      "✅ Strong password!\n"
     ]
    }
   ],
   "source": [
    "def is_valid_password(password):\n",
    "    if not (8 < len(password) < 16):  \n",
    "        return \"❌ Password length must be between 8 and 16 characters.\"\n",
    "\n",
    "    has_alpha = False\n",
    "    has_digit = False\n",
    "    has_special = False\n",
    "\n",
    "    special_characters = \"!@#$%^&*()-_=+[]{}|;:'\\\",.<>?/\"\n",
    "\n",
    "    for char in password:\n",
    "        if char.isalpha():\n",
    "            has_alpha = True\n",
    "        elif char.isdigit():\n",
    "            has_digit = True\n",
    "        elif char in special_characters:\n",
    "            has_special = True\n",
    "\n",
    "    if not has_alpha:\n",
    "        return \"❌ Password must contain at least one alphabet.\"\n",
    "    if not has_digit:\n",
    "        return \"❌ Password must contain at least one number.\"\n",
    "    if not has_special:\n",
    "        return \"❌ Password must contain at least one special character.\"\n",
    "\n",
    "    return \"✅ Strong password!\"\n",
    "    \n",
    "password = input(\"Enter your password: \")\n",
    "result = is_valid_password(password)\n",
    "print(result)"
   ]
  },
  {
   "cell_type": "code",
   "execution_count": 23,
   "id": "603cf2b8-aa16-45ea-b6ba-db908576a9ec",
   "metadata": {},
   "outputs": [
    {
     "name": "stdin",
     "output_type": "stream",
     "text": [
      "Enter three numbers separated by space:  7 8 3\n"
     ]
    },
    {
     "name": "stdout",
     "output_type": "stream",
     "text": [
      "Sum of non-duplicate numbers: 18\n"
     ]
    }
   ],
   "source": [
    "def sum_of_non_duplicates(a, b, c):\n",
    "    numbers = [a, b, c]\n",
    "    unique_numbers = [num for num in numbers if numbers.count(num) == 1]\n",
    "    return sum(unique_numbers)\n",
    "#Eg:\n",
    "a, b, c = map(int, input(\"Enter three numbers separated by space: \").split())\n",
    "result = sum_of_non_duplicates(a, b, c)\n",
    "print(\"Sum of non-duplicate numbers:\", result)"
   ]
  },
  {
   "cell_type": "code",
   "execution_count": 33,
   "id": "d364c7e8-67f7-4b58-83ac-f3d70d56a5d0",
   "metadata": {},
   "outputs": [
    {
     "name": "stdin",
     "output_type": "stream",
     "text": [
      "Enter three numbers separated by commas:  5,4,4\n"
     ]
    },
    {
     "name": "stdout",
     "output_type": "stream",
     "text": [
      "Sum of non-duplicate numbers: 5\n"
     ]
    }
   ],
   "source": [
    "def sum_of_non_duplicates(a, b, c):\n",
    "    return sum(x for x in (a, b, c) if (a, b, c).count(x) == 1)\n",
    "a, b, c = eval(input(\"Enter three numbers separated by commas: \"))\n",
    "print(\"Sum of non-duplicate numbers:\", sum_of_non_duplicates(a, b, c))"
   ]
  },
  {
   "cell_type": "code",
   "execution_count": 35,
   "id": "281a2267-b6fc-4580-a285-50ce5705c6c0",
   "metadata": {},
   "outputs": [
    {
     "name": "stdin",
     "output_type": "stream",
     "text": [
      "Enter a number:  15\n"
     ]
    },
    {
     "name": "stdout",
     "output_type": "stream",
     "text": [
      "1\n",
      "2\n",
      "Fizz\n",
      "4\n",
      "Buzz\n",
      "Fizz\n",
      "7\n",
      "8\n",
      "Fizz\n",
      "Buzz\n",
      "11\n",
      "Fizz\n",
      "13\n",
      "14\n",
      "FizzBuzz\n"
     ]
    }
   ],
   "source": [
    "def fizzbuzz(n):\n",
    "    for i in range(1, n + 1):\n",
    "        if i % 3 == 0 and i % 5 == 0:\n",
    "            print(\"FizzBuzz\")\n",
    "        elif i % 3 == 0:\n",
    "            print(\"Fizz\")\n",
    "        elif i % 5 == 0:\n",
    "            print(\"Buzz\")\n",
    "        else:\n",
    "            print(i)\n",
    "num = int(input(\"Enter a number: \"))\n",
    "fizzbuzz(num)"
   ]
  },
  {
   "cell_type": "code",
   "execution_count": 37,
   "id": "5c07b645-4d9c-4aa7-88d5-35c066c2bb61",
   "metadata": {},
   "outputs": [
    {
     "name": "stdin",
     "output_type": "stream",
     "text": [
      "Enter a string:  Himanshi\n",
      "Enter the character to count:  i\n"
     ]
    },
    {
     "name": "stdout",
     "output_type": "stream",
     "text": [
      "The character 'i' appears 2 times in the string.\n"
     ]
    }
   ],
   "source": [
    "def char_occurrences(string, char):\n",
    "    count = 0\n",
    "    for c in string:\n",
    "        if c == char:\n",
    "            count += 1\n",
    "    return count\n",
    "\n",
    "string = input(\"Enter a string: \")\n",
    "char = input(\"Enter the character to count: \")\n",
    "occurrences = char_occurrences(string, char)\n",
    "\n",
    "print(f\"The character '{char}' appears {occurrences} times in the string.\")"
   ]
  },
  {
   "cell_type": "code",
   "execution_count": 39,
   "id": "f97b7808-0724-4016-b75e-7e3e3ccf053b",
   "metadata": {},
   "outputs": [
    {
     "name": "stdin",
     "output_type": "stream",
     "text": [
      "Enter password length:  7\n"
     ]
    },
    {
     "name": "stdout",
     "output_type": "stream",
     "text": [
      "Generated Password: W!5HsOF\n"
     ]
    }
   ],
   "source": [
    "import random\n",
    "\n",
    "def generate_password(length):\n",
    "    chars = \"abcdefghijklmnopqrstuvwxyzABCDEFGHIJKLMNOPQRSTUVWXYZ0123456789!@#$%^&*\"\n",
    "    password = \"\" \n",
    "    for i in range(length):\n",
    "        password += random.choice(chars) \n",
    "    return password\n",
    "length = int(input(\"Enter password length: \"))\n",
    "print(\"Generated Password:\", generate_password(length))"
   ]
  },
  {
   "cell_type": "code",
   "execution_count": 41,
   "id": "938f3908-8477-4f7c-91cc-4b61f682a9d0",
   "metadata": {},
   "outputs": [
    {
     "name": "stdin",
     "output_type": "stream",
     "text": [
      "Enter password length:  10\n"
     ]
    },
    {
     "name": "stdout",
     "output_type": "stream",
     "text": [
      "Generated Password: IQ|z*C.eB]\n"
     ]
    }
   ],
   "source": [
    "import random\n",
    "\n",
    "def generate_password(length):\n",
    "    password = \"\"\n",
    "    for _ in range(length):\n",
    "        ascii_code = random.randint(33, 126)  \n",
    "        password += chr(ascii_code)\n",
    "    return password\n",
    "\n",
    "length = int(input(\"Enter password length: \"))\n",
    "print(\"Generated Password:\", generate_password(length))"
   ]
  },
  {
   "cell_type": "code",
   "execution_count": 43,
   "id": "3c95bd87-cc00-43f5-81d1-295b3621841a",
   "metadata": {},
   "outputs": [
    {
     "name": "stdin",
     "output_type": "stream",
     "text": [
      "Enter rock, paper, or scissors:  rock\n"
     ]
    },
    {
     "name": "stdout",
     "output_type": "stream",
     "text": [
      "Computer chose: scissors\n",
      "You win!\n"
     ]
    }
   ],
   "source": [
    "import random\n",
    "\n",
    "choices = [\"rock\", \"paper\", \"scissors\"]\n",
    "user_choice = input(\"Enter rock, paper, or scissors: \").lower()\n",
    "computer_choice = random.choice(choices)\n",
    "\n",
    "print(f\"Computer chose: {computer_choice}\")\n",
    "\n",
    "if user_choice == computer_choice:\n",
    "    print(\"It's a tie!\")\n",
    "elif (user_choice == \"rock\" and computer_choice == \"scissors\") or \\\n",
    "     (user_choice == \"paper\" and computer_choice == \"rock\") or \\\n",
    "     (user_choice == \"scissors\" and computer_choice == \"paper\"):\n",
    "    print(\"You win!\")\n",
    "else:\n",
    "    print(\"You lose!\")"
   ]
  }
 ],
 "metadata": {
  "kernelspec": {
   "display_name": "Python 3 (ipykernel)",
   "language": "python",
   "name": "python3"
  },
  "language_info": {
   "codemirror_mode": {
    "name": "ipython",
    "version": 3
   },
   "file_extension": ".py",
   "mimetype": "text/x-python",
   "name": "python",
   "nbconvert_exporter": "python",
   "pygments_lexer": "ipython3",
   "version": "3.12.7"
  }
 },
 "nbformat": 4,
 "nbformat_minor": 5
}
